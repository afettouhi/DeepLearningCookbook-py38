{
 "cells": [
  {
   "cell_type": "code",
   "execution_count": null,
   "metadata": {},
   "outputs": [],
   "source": [
    "from keras.models import load_model, model_from_config\n",
    "import h5py\n",
    "import tensorflow as tf\n",
    "from keras import backend as K\n",
    "import shutil\n",
    "import json\n",
    "import numpy as np\n",
    "\n",
    "from grpc.beta import implementations\n",
    "\n",
    "from tensorflow_serving.apis import predict_pb2\n",
    "from tensorflow_serving.apis import prediction_service_pb2"
   ]
  },
  {
   "cell_type": "code",
   "execution_count": null,
   "metadata": {},
   "outputs": [],
   "source": [
    "K.set_learning_phase(0) \n",
    "sess = tf.Session()\n",
    "K.set_session(sess)\n",
    "\n",
    "with open('../data/zoo/07/emoji_chars.json') as fin:\n",
    "    d = json.load(fin)\n",
    "    emojis = d['emojis']\n",
    "    char_to_idx = d['char_to_idx']\n",
    "    max_sequence_len = d['max_sequence_len']\n",
    "\n",
    "char_cnn = load_model('../data/zoo/07/char_cnn_model.h5')\n",
    "config = char_cnn.get_config()\n",
    "if not 'config' in config:\n",
    "    config = {'config': config,\n",
    "              'class_name': 'Model'}\n",
    "\n",
    "weights = char_cnn.get_weights()\n",
    "char_cnn.summary()"
   ]
  },
  {
   "cell_type": "code",
   "execution_count": null,
   "metadata": {},
   "outputs": [],
   "source": [
    "new_model = model_from_config(config)\n",
    "new_model.set_weights(weights)\n",
    "new_model.compile()"
   ]
  },
  {
   "cell_type": "code",
   "execution_count": null,
   "metadata": {},
   "outputs": [],
   "source": [
    "tweet = \"There's a house centipede in my closet and since Ryan isn't here I have to kill it....\"\n",
    "encoded = np.zeros((1, max_sequence_len, len(char_to_idx)))\n",
    "for idx, ch in enumerate(tweet):\n",
    "    encoded[0, idx, char_to_idx[ch]] = 1\n",
    "\n",
    "res = char_cnn.predict(encoded)\n",
    "emojis[np.argmax(res)]"
   ]
  },
  {
   "cell_type": "code",
   "execution_count": null,
   "metadata": {},
   "outputs": [],
   "source": []
  },
  {
   "cell_type": "code",
   "execution_count": null,
   "metadata": {},
   "outputs": [],
   "source": []
  },
  {
   "cell_type": "code",
   "execution_count": null,
   "metadata": {},
   "outputs": [],
   "source": [
    "input_info = tf.saved_model.utils.build_tensor_info(new_model.inputs[0])\n",
    "output_info = tf.saved_model.utils.build_tensor_info(new_model.outputs[0])\n",
    "prediction_signature =  tf.saved_model.signature_def_utils.build_signature_def(\n",
    "          inputs={'input': input_info},\n",
    "          outputs={'output': output_info},\n",
    "          method_name=tf.saved_model.signature_constants.PREDICT_METHOD_NAME)\n",
    "prediction_signature"
   ]
  },
  {
   "cell_type": "code",
   "execution_count": null,
   "metadata": {},
   "outputs": [],
   "source": [
    "# Build the signature_def_map.\n",
    "classification_inputs = tf.saved_model.utils.build_tensor_info(serialized_tf_example)\n",
    "classification_outputs_classes = tf.saved_model.utils.build_tensor_info(prediction_classes)\n",
    "classification_outputs_scores = tf.saved_model.utils.build_tensor_info(values)\n",
    "\n",
    "classification_signature = (\n",
    "  tf.saved_model.signature_def_utils.build_signature_def(\n",
    "      inputs={\n",
    "          tf.saved_model.signature_constants.CLASSIFY_INPUTS:\n",
    "              classification_inputs\n",
    "      },\n",
    "      outputs={\n",
    "          tf.saved_model.signature_constants.CLASSIFY_OUTPUT_CLASSES:\n",
    "              classification_outputs_classes,\n",
    "          tf.saved_model.signature_constants.CLASSIFY_OUTPUT_SCORES:\n",
    "              classification_outputs_scores\n",
    "      },\n",
    "      method_name=tf.saved_model.signature_constants.CLASSIFY_METHOD_NAME)\n",
    ")"
   ]
  },
  {
   "cell_type": "code",
   "execution_count": null,
   "metadata": {},
   "outputs": [],
   "source": [
    "outpath = '../data/zoo/07/07.2 char_cnn_model.tf_model/1'\n",
    "shutil.rmtree(outpath)\n",
    "\n",
    "legacy_init_op = tf.group(tf.tables_initializer(), name='legacy_init_op')\n",
    "builder = tf.saved_model.builder.SavedModelBuilder(outpath)\n",
    "builder.add_meta_graph_and_variables(\n",
    "      sess, [tf.saved_model.tag_constants.SERVING],\n",
    "      signature_def_map={\n",
    "           'emoji_suggest': prediction_signature,\n",
    "#           signature_constants.DEFAULT_SERVING_SIGNATURE_DEF_KEY:\n",
    "#               classification_signature,\n",
    "      },\n",
    "      legacy_init_op=legacy_init_op)\n",
    "builder.save()"
   ]
  },
  {
   "cell_type": "code",
   "execution_count": null,
   "metadata": {},
   "outputs": [],
   "source": [
    "saver = tf.train.Saver(sharded=True)\n",
    "model_exporter = exporter.Exporter(saver)\n",
    "signature = exporter.classification_signature(input_tensor=model.input,\n",
    "                                              scores_tensor=model.output)\n",
    "model_exporter.init(sess.graph.as_graph_def(),\n",
    "                    default_graph_signature=signature)\n",
    "model_exporter.export('zoo/07.2 char_cnn_model.tf_model', \n",
    "                      tf.constant(1), \n",
    "                      sess)"
   ]
  },
  {
   "cell_type": "code",
   "execution_count": null,
   "metadata": {},
   "outputs": [],
   "source": [
    "request = predict_pb2.PredictRequest()\n",
    "request.model_spec.name = 'char_cnn_model'\n",
    "request.model_spec.signature_name = 'emoji_suggest'\n",
    "request.inputs['input'].CopyFrom(\n",
    "        tf.contrib.util.make_tensor_proto(encoded.astype('float32'), \n",
    "                                          shape=[1, max_sequence_len, len(char_to_idx)]))\n",
    "\n",
    "channel = implementations.insecure_channel('localhost', 8500)\n",
    "stub = prediction_service_pb2.beta_create_PredictionService_stub(channel)\n",
    "result = stub.Predict(request, 5) "
   ]
  },
  {
   "cell_type": "code",
   "execution_count": null,
   "metadata": {},
   "outputs": [],
   "source": [
    "response = np.array(result.outputs['output'].float_val)\n",
    "prediction = np.argmax(response)\n",
    "emojis[prediction]"
   ]
  }
 ],
 "metadata": {
  "kernelspec": {
   "display_name": "Python 2",
   "language": "python",
   "name": "python2"
  },
  "language_info": {
   "codemirror_mode": {
    "name": "ipython",
    "version": 2
   },
   "file_extension": ".py",
   "mimetype": "text/x-python",
   "name": "python",
   "nbconvert_exporter": "python",
   "pygments_lexer": "ipython2",
   "version": "2.7.14"
  }
 },
 "nbformat": 4,
 "nbformat_minor": 2
}