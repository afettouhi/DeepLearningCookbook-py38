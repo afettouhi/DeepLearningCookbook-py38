{
 "cells": [
  {
   "cell_type": "code",
   "execution_count": 1,
   "metadata": {
    "pycharm": {
     "name": "#%%\n"
    }
   },
   "outputs": [],
   "source": [
    "%matplotlib inline\n",
    "\n",
    "import os\n",
    "from keras.utils import get_file\n",
    "import gensim\n",
    "import subprocess\n",
    "import numpy as np\n",
    "import matplotlib.pyplot as plt\n",
    "from IPython.core.pylabtools import figsize\n",
    "figsize(10, 10)\n",
    "\n",
    "from sklearn.manifold import TSNE\n",
    "import json\n",
    "from collections import Counter\n",
    "from itertools import chain"
   ]
  },
  {
   "cell_type": "code",
   "execution_count": 2,
   "metadata": {},
   "outputs": [],
   "source": [
    "MODEL = 'GoogleNews-vectors-negative300.bin'\n",
    "path = get_file(MODEL + '.gz', 'https://deeplearning4jblob.blob.core.windows.net/resources/wordvectors/%s.gz' % MODEL)\n",
    "if not os.path.isdir('../data/generated'):\n",
    "    os.mkdir('../data/generated')\n",
    "\n",
    "unzipped = os.path.join('../data/generated', MODEL)\n",
    "if not os.path.isfile(unzipped):\n",
    "    with open(unzipped, 'wb') as fout:\n",
    "        zcat = subprocess.Popen(['zcat'],\n",
    "                          stdin=open(path),\n",
    "                          stdout=fout\n",
    "                         )\n",
    "        zcat.wait()"
   ]
  },
  {
   "cell_type": "code",
   "execution_count": 3,
   "metadata": {
    "pycharm": {
     "name": "#%%\n"
    }
   },
   "outputs": [],
   "source": [
    "model = gensim.models.KeyedVectors.load_word2vec_format(unzipped, binary=True)"
   ]
  },
  {
   "cell_type": "code",
   "execution_count": 4,
   "metadata": {
    "pycharm": {
     "name": "#%%\n"
    }
   },
   "outputs": [
    {
     "data": {
      "text/plain": "[('cappuccino', 0.6888186931610107),\n ('mocha', 0.6686208844184875),\n ('coffee', 0.6616826057434082),\n ('latte', 0.6536753177642822),\n ('caramel_macchiato', 0.6491268873214722),\n ('ristretto', 0.6485545635223389),\n ('espressos', 0.6438628435134888),\n ('macchiato', 0.6428250074386597),\n ('chai_latte', 0.6308028697967529),\n ('espresso_cappuccino', 0.6280542612075806)]"
     },
     "execution_count": 4,
     "metadata": {},
     "output_type": "execute_result"
    }
   ],
   "source": [
    "model.most_similar(positive=['espresso'])"
   ]
  },
  {
   "cell_type": "code",
   "execution_count": 5,
   "metadata": {
    "pycharm": {
     "name": "#%%\n"
    }
   },
   "outputs": [],
   "source": [
    "def A_is_to_B_as_C_is_to(a, b, c, topn=1):\n",
    "    a, b, c = map(lambda x:x if type(x) == list else [x], (a, b, c))\n",
    "    res = model.most_similar(positive=b + c, negative=a, topn=topn)\n",
    "    if len(res):\n",
    "        if topn == 1:\n",
    "            return res[0][0]\n",
    "        return [x[0] for x in res]\n",
    "    return None"
   ]
  },
  {
   "cell_type": "code",
   "execution_count": 6,
   "metadata": {
    "pycharm": {
     "name": "#%%\n"
    }
   },
   "outputs": [
    {
     "data": {
      "text/plain": "'queen'"
     },
     "execution_count": 6,
     "metadata": {},
     "output_type": "execute_result"
    }
   ],
   "source": [
    "A_is_to_B_as_C_is_to('man', 'woman', 'king')"
   ]
  },
  {
   "cell_type": "code",
   "execution_count": 7,
   "metadata": {
    "pycharm": {
     "name": "#%%\n"
    }
   },
   "outputs": [
    {
     "name": "stdout",
     "output_type": "stream",
     "text": [
      "Rome is the capital of Italy\n",
      "Paris is the capital of France\n",
      "Delhi is the capital of India\n",
      "Beijing is the capital of China\n"
     ]
    }
   ],
   "source": [
    "for country in 'Italy', 'France', 'India', 'China':\n",
    "    print('%s is the capital of %s' %\n",
    "          (A_is_to_B_as_C_is_to('Germany', 'Berlin', country), country))"
   ]
  },
  {
   "cell_type": "code",
   "execution_count": 8,
   "metadata": {
    "pycharm": {
     "name": "#%%\n"
    }
   },
   "outputs": [
    {
     "name": "stdout",
     "output_type": "stream",
     "text": [
      "Google -> personalized_homepage, app, Gmail\n",
      "IBM -> DB2, WebSphere_Portal, Tamino_XML_Server\n",
      "Boeing -> Dreamliner, airframe, aircraft\n",
      "Microsoft -> Windows_Mobile, SyncMate, Windows\n",
      "Samsung -> MM_A###, handset, Samsung_SCH_B###\n"
     ]
    }
   ],
   "source": [
    "for company in 'Google', 'IBM', 'Boeing', 'Microsoft', 'Samsung':\n",
    "    products = A_is_to_B_as_C_is_to(\n",
    "        ['Starbucks', 'Apple'], ['Starbucks_coffee', 'iPhone'], company, topn=3)\n",
    "    print('%s -> %s' %\n",
    "            (company, ', '.join(products)))"
   ]
  },
  {
   "cell_type": "code",
   "execution_count": 9,
   "metadata": {
    "pycharm": {
     "name": "#%%\n"
    }
   },
   "outputs": [],
   "source": [
    "beverages = ['espresso', 'beer', 'vodka', 'wine', 'cola', 'tea']\n",
    "countries = ['Italy', 'Germany', 'Russia', 'France', 'USA', 'India']\n",
    "sports = ['soccer', 'handball', 'hockey', 'cycling', 'basketball', 'cricket']\n",
    "\n",
    "items = beverages + countries + sports"
   ]
  },
  {
   "cell_type": "code",
   "execution_count": 10,
   "metadata": {
    "pycharm": {
     "name": "#%%\n"
    }
   },
   "outputs": [],
   "source": [
    "item_vectors = [(item, model[item])\n",
    "                    for item in items\n",
    "                    if item in model]"
   ]
  },
  {
   "cell_type": "code",
   "execution_count": 11,
   "metadata": {
    "pycharm": {
     "name": "#%%\n"
    }
   },
   "outputs": [
    {
     "name": "stdout",
     "output_type": "stream",
     "text": [
      "[t-SNE] Computing 17 nearest neighbors...\n",
      "[t-SNE] Indexed 18 samples in 0.000s...\n",
      "[t-SNE] Computed neighbors for 18 samples in 0.003s...\n",
      "[t-SNE] Computed conditional probabilities for sample 18 / 18\n",
      "[t-SNE] Mean sigma: 0.581543\n",
      "[t-SNE] Computed conditional probabilities in 0.004s\n",
      "[t-SNE] Iteration 50: error = 51.4721222, gradient norm = 0.3068479 (50 iterations in 0.145s)\n",
      "[t-SNE] Iteration 100: error = 52.3207588, gradient norm = 0.1155511 (50 iterations in 0.029s)\n",
      "[t-SNE] Iteration 150: error = 79.1692276, gradient norm = 0.7594933 (50 iterations in 0.056s)\n",
      "[t-SNE] Iteration 200: error = 57.2479324, gradient norm = 0.0346046 (50 iterations in 0.032s)\n",
      "[t-SNE] Iteration 250: error = 83.7240372, gradient norm = 0.4688950 (50 iterations in 0.061s)\n",
      "[t-SNE] KL divergence after 250 iterations with early exaggeration: 83.724037\n",
      "[t-SNE] Iteration 300: error = 1.1998193, gradient norm = 0.0010501 (50 iterations in 0.023s)\n",
      "[t-SNE] Iteration 350: error = 0.9456236, gradient norm = 0.0004786 (50 iterations in 0.027s)\n",
      "[t-SNE] Iteration 400: error = 0.8408309, gradient norm = 0.0002408 (50 iterations in 0.018s)\n",
      "[t-SNE] Iteration 450: error = 0.7845865, gradient norm = 0.0001980 (50 iterations in 0.017s)\n",
      "[t-SNE] Iteration 500: error = 0.7266555, gradient norm = 0.0001997 (50 iterations in 0.037s)\n",
      "[t-SNE] Iteration 550: error = 0.6429433, gradient norm = 0.0003589 (50 iterations in 0.027s)\n",
      "[t-SNE] Iteration 600: error = 0.4225838, gradient norm = 0.0002833 (50 iterations in 0.026s)\n",
      "[t-SNE] Iteration 650: error = 0.3467291, gradient norm = 0.0001858 (50 iterations in 0.047s)\n",
      "[t-SNE] Iteration 700: error = 0.3030957, gradient norm = 0.0001609 (50 iterations in 0.126s)\n",
      "[t-SNE] Iteration 750: error = 0.2641006, gradient norm = 0.0001245 (50 iterations in 0.048s)\n",
      "[t-SNE] Iteration 800: error = 0.2430476, gradient norm = 0.0000949 (50 iterations in 0.037s)\n",
      "[t-SNE] Iteration 850: error = 0.2308046, gradient norm = 0.0000671 (50 iterations in 0.086s)\n",
      "[t-SNE] Iteration 900: error = 0.2235554, gradient norm = 0.0000627 (50 iterations in 0.032s)\n",
      "[t-SNE] Iteration 950: error = 0.2172745, gradient norm = 0.0000635 (50 iterations in 0.038s)\n",
      "[t-SNE] Iteration 1000: error = 0.2091797, gradient norm = 0.0000730 (50 iterations in 0.025s)\n",
      "[t-SNE] KL divergence after 1000 iterations: 0.209180\n"
     ]
    }
   ],
   "source": [
    "vectors = np.asarray([x[1] for x in item_vectors])\n",
    "lengths = np.linalg.norm(vectors, axis=1)\n",
    "norm_vectors = (vectors.T / lengths).T\n",
    "tsne = TSNE(n_components=2, perplexity=10,\n",
    "            verbose=2).fit_transform(norm_vectors)"
   ]
  },
  {
   "cell_type": "code",
   "execution_count": 12,
   "metadata": {
    "pycharm": {
     "name": "#%%\n"
    }
   },
   "outputs": [
    {
     "data": {
      "text/plain": "<Figure size 720x720 with 1 Axes>",
      "image/png": "[encoded data removed]"
     },
     "metadata": {
      "needs_background": "light"
     },
     "output_type": "display_data"
    }
   ],
   "source": [
    "x=tsne[:,0]\n",
    "y=tsne[:,1]\n",
    "\n",
    "fig, ax = plt.subplots()\n",
    "ax.scatter(x, y)\n",
    "\n",
    "for item, x1, y1 in zip(item_vectors, x, y):\n",
    "    ax.annotate(item[0], (x1, y1))\n",
    "\n",
    "plt.show()"
   ]
  },
  {
   "cell_type": "code",
   "execution_count": 13,
   "metadata": {
    "pycharm": {
     "name": "#%%\n"
    }
   },
   "outputs": [],
   "source": [
    "%matplotlib inline\n",
    "figsize(12, 8)\n",
    "\n",
    "from sklearn import svm\n",
    "from keras.utils import get_file\n",
    "import os\n",
    "import gensim\n",
    "import numpy as np\n",
    "import random\n",
    "import requests\n",
    "import geopandas as gpd\n",
    "from IPython.core.pylabtools import figsize\n",
    "import csv"
   ]
  },
  {
   "cell_type": "code",
   "execution_count": 14,
   "metadata": {
    "pycharm": {
     "name": "#%%\n"
    }
   },
   "outputs": [],
   "source": [
    "MODEL = 'GoogleNews-vectors-negative300.bin'\n",
    "path = get_file(MODEL + '.gz', 'https://s3.amazonaws.com/dl4j-distribution/%s.gz' % MODEL)\n",
    "unzipped = os.path.join('../data/generated', MODEL)\n",
    "if not os.path.isfile(unzipped):\n",
    "    with open(unzipped, 'wb') as fout:\n",
    "        zcat = subprocess.Popen(['zcat'],\n",
    "                          stdin=open(path),\n",
    "                          stdout=fout\n",
    "                         )\n",
    "        zcat.wait()"
   ]
  },
  {
   "cell_type": "code",
   "execution_count": 15,
   "outputs": [
    {
     "data": {
      "text/plain": "[('Austria', 0.7461062073707581),\n ('German', 0.7178748846054077),\n ('Germans', 0.6628648042678833),\n ('Switzerland', 0.6506868600845337),\n ('Hungary', 0.6504982709884644),\n ('Germnay', 0.649348258972168),\n ('Netherlands', 0.6437496542930603),\n ('Cologne', 0.6430779695510864),\n ('symbol_RSTI', 0.6389946937561035),\n ('Annita_Kirsten', 0.6342948079109192)]"
     },
     "execution_count": 15,
     "metadata": {},
     "output_type": "execute_result"
    }
   ],
   "source": [
    "model = gensim.models.KeyedVectors.load_word2vec_format(unzipped, binary=True)\n",
    "model.most_similar(positive=['Germany'])"
   ],
   "metadata": {
    "collapsed": false,
    "pycharm": {
     "name": "#%%\n"
    }
   }
  },
  {
   "cell_type": "code",
   "execution_count": 16,
   "metadata": {
    "pycharm": {
     "name": "#%%\n"
    }
   },
   "outputs": [],
   "source": [
    "positive = ['Chile', 'Mauritius', 'Barbados', 'Ukraine', 'Israel',\n",
    "  'Rwanda', 'Venezuela', 'Lithuania', 'Costa_Rica', 'Romania',\n",
    "  'Senegal', 'Canada', 'Malaysia', 'South_Korea', 'Australia',\n",
    "  'Tunisia', 'Armenia', 'China', 'Czech_Republic', 'Guinea',\n",
    "  'Gambia', 'Gabon', 'Italy', 'Montenegro', 'Guyana', 'Nicaragua',\n",
    "  'French_Guiana', 'Serbia', 'Uruguay', 'Ethiopia', 'Samoa',\n",
    "  'Antarctica', 'Suriname', 'Finland', 'Bermuda', 'Cuba', 'Oman',\n",
    "  'Azerbaijan', 'Papua', 'France', 'Tanzania', 'Germany']"
   ]
  },
  {
   "cell_type": "code",
   "execution_count": 17,
   "metadata": {
    "pycharm": {
     "name": "#%%\n"
    }
   },
   "outputs": [
    {
     "data": {
      "text/plain": "['Quickens', 'Transcutaneous', 'Kantrowitz_Goldhamer_&', 'Larry_Harnisch']"
     },
     "execution_count": 17,
     "metadata": {},
     "output_type": "execute_result"
    }
   ],
   "source": [
    "negative = random.sample(model.vocab.keys(), 5000)\n",
    "negative[:4]"
   ]
  },
  {
   "cell_type": "code",
   "execution_count": 18,
   "metadata": {
    "pycharm": {
     "name": "#%%\n"
    }
   },
   "outputs": [],
   "source": [
    "labelled = [(p, 1) for p in positive] + [(n, 0) for n in negative]\n",
    "random.shuffle(labelled)\n",
    "X = np.asarray([model[w] for w, l in labelled])\n",
    "y = np.asarray([l for w, l in labelled])"
   ]
  },
  {
   "cell_type": "code",
   "execution_count": 19,
   "metadata": {
    "pycharm": {
     "name": "#%%\n"
    }
   },
   "outputs": [
    {
     "data": {
      "text/plain": "SVC(kernel='linear')"
     },
     "execution_count": 19,
     "metadata": {},
     "output_type": "execute_result"
    }
   ],
   "source": [
    "TRAINING_FRACTION = 0.7\n",
    "cut_off = int(TRAINING_FRACTION * len(labelled))\n",
    "clf = svm.SVC(kernel='linear')\n",
    "clf.fit(X[:cut_off], y[:cut_off])"
   ]
  },
  {
   "cell_type": "code",
   "execution_count": 20,
   "metadata": {
    "pycharm": {
     "name": "#%%\n"
    }
   },
   "outputs": [
    {
     "data": {
      "text/plain": "(99.93390614672836, [('Britian', 0)])"
     },
     "execution_count": 20,
     "metadata": {},
     "output_type": "execute_result"
    }
   ],
   "source": [
    "res = clf.predict(X[cut_off:])\n",
    "\n",
    "missed = [country for (pred, truth, country) in\n",
    "          zip(res, y[cut_off:], labelled[cut_off:]) if pred != truth]\n",
    "100 - 100 * float(len(missed)) / len(res), missed"
   ]
  },
  {
   "cell_type": "code",
   "execution_count": 21,
   "metadata": {
    "pycharm": {
     "name": "#%%\n"
    }
   },
   "outputs": [
    {
     "name": "stderr",
     "output_type": "stream",
     "text": [
      "<ipython-input-21-fe2ef710f43f>:1: DeprecationWarning: Call to deprecated `syn0` (Attribute will be removed in 4.0.0, use self.vectors instead).\n",
      "  all_predictions = clf.predict(model.syn0)\n"
     ]
    }
   ],
   "source": [
    "all_predictions = clf.predict(model.syn0)"
   ]
  },
  {
   "cell_type": "code",
   "execution_count": 22,
   "outputs": [
    {
     "data": {
      "text/plain": "['Soviet',\n 'Syria',\n 'Austria',\n 'New_Zealand',\n 'Saudi_Arabia',\n 'Switzerland',\n 'Russia',\n 'Kenya',\n 'Puerto_Rico',\n 'Vermont']"
     },
     "execution_count": 22,
     "metadata": {},
     "output_type": "execute_result"
    }
   ],
   "source": [
    "res = []\n",
    "for word, pred in zip(model.index2word, all_predictions):\n",
    "  if pred:\n",
    "    res.append(word)\n",
    "    if len(res) == 150:\n",
    "      break\n",
    "random.sample(res, 10)"
   ],
   "metadata": {
    "collapsed": false,
    "pycharm": {
     "name": "#%%\n"
    }
   }
  },
  {
   "cell_type": "code",
   "execution_count": 23,
   "metadata": {
    "pycharm": {
     "name": "#%%\n"
    }
   },
   "outputs": [
    {
     "data": {
      "text/plain": "[{'name': 'Canada', 'cc': 'ca', 'cc3': 'can'},\n {'name': 'Turkmenistan', 'cc': 'tm', 'cc3': 'tkm'},\n {'name': 'Ethiopia', 'cc': 'et', 'cc3': 'eth'},\n {'name': 'Swaziland', 'cc': 'sz', 'cc3': 'swz'},\n {'name': 'Czech_Republic', 'cc': 'cz', 'cc3': 'cze'},\n {'name': 'Cameroon', 'cc': 'cm', 'cc3': 'cmr'},\n {'name': 'UAE', 'cc': 'ae', 'cc3': 'are'},\n {'name': 'Liberia', 'cc': 'lr', 'cc3': 'lbr'},\n {'name': 'Netherlands', 'cc': 'nl', 'cc3': 'nld'},\n {'name': 'East_Timor', 'cc': 'tl', 'cc3': 'tls'}]"
     },
     "execution_count": 23,
     "metadata": {},
     "output_type": "execute_result"
    }
   ],
   "source": [
    "countries = list(csv.DictReader(open('../data/countries.csv')))\n",
    "countries[:10]"
   ]
  },
  {
   "cell_type": "code",
   "execution_count": 24,
   "outputs": [
    {
     "data": {
      "text/plain": "(184, 300)"
     },
     "execution_count": 24,
     "metadata": {},
     "output_type": "execute_result"
    }
   ],
   "source": [
    "country_to_idx = {country['name']: idx for idx, country in enumerate(countries)}\n",
    "country_vecs = np.asarray([model[c['name']] for c in countries])\n",
    "country_vecs.shape"
   ],
   "metadata": {
    "collapsed": false,
    "pycharm": {
     "name": "#%%\n"
    }
   }
  },
  {
   "cell_type": "code",
   "execution_count": 25,
   "metadata": {
    "pycharm": {
     "name": "#%%\n"
    }
   },
   "outputs": [
    {
     "name": "stdout",
     "output_type": "stream",
     "text": [
      "Canada 7.544024\n",
      "New_Zealand 3.9619699\n",
      "Finland 3.9392405\n",
      "Puerto_Rico 3.838145\n",
      "Jamaica 3.8102937\n",
      "Sweden 3.8042789\n",
      "Slovakia 3.7038739\n",
      "Australia 3.671101\n",
      "Bahamas 3.6240416\n",
      "United_States 3.537434\n"
     ]
    }
   ],
   "source": [
    "dists = np.dot(country_vecs, country_vecs[country_to_idx['Canada']])\n",
    "for idx in reversed(np.argsort(dists)[-10:]):\n",
    "    print(countries[idx]['name'], dists[idx])"
   ]
  },
  {
   "cell_type": "code",
   "execution_count": 26,
   "metadata": {
    "pycharm": {
     "name": "#%%\n"
    }
   },
   "outputs": [],
   "source": [
    "def rank_countries(term, topn=10, field='name'):\n",
    "    if not term in model:\n",
    "        return []\n",
    "    vec = model[term]\n",
    "    dists = np.dot(country_vecs, vec)\n",
    "    return [(countries[idx][field], float(dists[idx]))\n",
    "            for idx in reversed(np.argsort(dists)[-topn:])]"
   ]
  },
  {
   "cell_type": "code",
   "execution_count": 27,
   "metadata": {
    "pycharm": {
     "name": "#%%\n"
    }
   },
   "outputs": [
    {
     "data": {
      "text/plain": "[('Sri_Lanka', 5.92276668548584),\n ('Zimbabwe', 5.336524963378906),\n ('Bangladesh', 5.192488670349121),\n ('Pakistan', 4.948408126831055),\n ('Guyana', 3.9162840843200684),\n ('Barbados', 3.757995128631592),\n ('India', 3.7504398822784424),\n ('South_Africa', 3.6561501026153564),\n ('New_Zealand', 3.64202880859375),\n ('Fiji', 3.608567714691162)]"
     },
     "execution_count": 27,
     "metadata": {},
     "output_type": "execute_result"
    }
   ],
   "source": [
    "rank_countries('cricket')"
   ]
  },
  {
   "cell_type": "code",
   "execution_count": 28,
   "metadata": {
    "pycharm": {
     "name": "#%%\n"
    }
   },
   "outputs": [
    {
     "data": {
      "text/plain": "     pop_est      continent                      name iso_a3  gdp_md_est  \\\n0     920938        Oceania                      Fiji    FJI      8374.0   \n1   53950935         Africa                  Tanzania    TZA    150600.0   \n2     603253         Africa                 W. Sahara    ESH       906.5   \n3   35623680  North America                    Canada    CAN   1674000.0   \n4  326625791  North America  United States of America    USA  18560000.0   \n\n                                            geometry  \n0  MULTIPOLYGON (((180.00000 -16.06713, 180.00000...  \n1  POLYGON ((33.90371 -0.95000, 34.07262 -1.05982...  \n2  POLYGON ((-8.66559 27.65643, -8.66512 27.58948...  \n3  MULTIPOLYGON (((-122.84000 49.00000, -122.9742...  \n4  MULTIPOLYGON (((-122.84000 49.00000, -120.0000...  ",
      "text/html": "<div>\n<style scoped>\n    .dataframe tbody tr th:only-of-type {\n        vertical-align: middle;\n    }\n\n    .dataframe tbody tr th {\n        vertical-align: top;\n    }\n\n    .dataframe thead th {\n        text-align: right;\n    }\n</style>\n<table border=\"1\" class=\"dataframe\">\n  <thead>\n    <tr style=\"text-align: right;\">\n      <th></th>\n      <th>pop_est</th>\n      <th>continent</th>\n      <th>name</th>\n      <th>iso_a3</th>\n      <th>gdp_md_est</th>\n      <th>geometry</th>\n    </tr>\n  </thead>\n  <tbody>\n    <tr>\n      <th>0</th>\n      <td>920938</td>\n      <td>Oceania</td>\n      <td>Fiji</td>\n      <td>FJI</td>\n      <td>8374.0</td>\n      <td>MULTIPOLYGON (((180.00000 -16.06713, 180.00000...</td>\n    </tr>\n    <tr>\n      <th>1</th>\n      <td>53950935</td>\n      <td>Africa</td>\n      <td>Tanzania</td>\n      <td>TZA</td>\n      <td>150600.0</td>\n      <td>POLYGON ((33.90371 -0.95000, 34.07262 -1.05982...</td>\n    </tr>\n    <tr>\n      <th>2</th>\n      <td>603253</td>\n      <td>Africa</td>\n      <td>W. Sahara</td>\n      <td>ESH</td>\n      <td>906.5</td>\n      <td>POLYGON ((-8.66559 27.65643, -8.66512 27.58948...</td>\n    </tr>\n    <tr>\n      <th>3</th>\n      <td>35623680</td>\n      <td>North America</td>\n      <td>Canada</td>\n      <td>CAN</td>\n      <td>1674000.0</td>\n      <td>MULTIPOLYGON (((-122.84000 49.00000, -122.9742...</td>\n    </tr>\n    <tr>\n      <th>4</th>\n      <td>326625791</td>\n      <td>North America</td>\n      <td>United States of America</td>\n      <td>USA</td>\n      <td>18560000.0</td>\n      <td>MULTIPOLYGON (((-122.84000 49.00000, -120.0000...</td>\n    </tr>\n  </tbody>\n</table>\n</div>"
     },
     "execution_count": 28,
     "metadata": {},
     "output_type": "execute_result"
    }
   ],
   "source": [
    "world = gpd.read_file(gpd.datasets.get_path('naturalearth_lowres'))\n",
    "world.head()"
   ]
  },
  {
   "cell_type": "code",
   "execution_count": 29,
   "metadata": {
    "pycharm": {
     "name": "#%%\n"
    }
   },
   "outputs": [
    {
     "data": {
      "text/plain": "<Figure size 864x576 with 1 Axes>",
      "image/png": "[encoded data removed]"
     },
     "metadata": {
      "needs_background": "light"
     },
     "output_type": "display_data"
    }
   ],
   "source": [
    "def map_term(term):\n",
    "    d = {k.upper(): v for k, v in rank_countries(term, topn=0, field='cc3')}\n",
    "    world[term] = world['iso_a3'].map(d)\n",
    "    world[term] /= world[term].max()\n",
    "    world.dropna().plot(term, cmap='OrRd')\n",
    "\n",
    "map_term('coffee')"
   ]
  },
  {
   "cell_type": "code",
   "execution_count": null,
   "outputs": [],
   "source": [],
   "metadata": {
    "collapsed": false,
    "pycharm": {
     "name": "#%%\n"
    }
   }
  }
 ],
 "metadata": {
  "kernelspec": {
   "display_name": "Python 3",
   "language": "python",
   "name": "python3"
  },
  "language_info": {
   "codemirror_mode": {
    "name": "ipython",
    "version": 3
   },
   "file_extension": ".py",
   "mimetype": "text/x-python",
   "name": "python",
   "nbconvert_exporter": "python",
   "pygments_lexer": "ipython3",
   "version": "3.8.2"
  }
 },
 "nbformat": 4,
 "nbformat_minor": 1
}