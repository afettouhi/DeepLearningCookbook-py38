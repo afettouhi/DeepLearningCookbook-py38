{
 "cells": [
  {
   "cell_type": "code",
   "execution_count": null,
   "metadata": {},
   "outputs": [],
   "source": [
    "import keras\n",
    "from keras.applications.inception_v3 import InceptionV3\n",
    "from keras.preprocessing import image\n",
    "from keras.models import Model\n",
    "from keras.layers import Input, Dense, GlobalAveragePooling2D\n",
    "from keras import backend as K\n",
    "from keras.utils import get_file\n",
    "import tarfile\n",
    "import os\n",
    "import numpy as np\n",
    "import json\n",
    "from collections import Counter\n",
    "from keras.optimizers import SGD"
   ]
  },
  {
   "cell_type": "code",
   "execution_count": null,
   "metadata": {},
   "outputs": [],
   "source": [
    "path = get_file('pet_images', 'http://www.robots.ox.ac.uk/~vgg/data/pets/data/images.tar.gz')\n",
    "tar = tarfile.open(path)\n",
    "tar.extractall()\n",
    "tar.close()\n",
    "os.rename('images', 'pet_images')"
   ]
  },
  {
   "cell_type": "code",
   "execution_count": null,
   "metadata": {},
   "outputs": [],
   "source": [
    "pet_images_fn = [fn for fn in os.listdir('pet_images') if fn.endswith('.jpg')]\n",
    "labels = []\n",
    "idx_to_labels = []\n",
    "label_to_idx = {}\n",
    "for fn in pet_images_fn:\n",
    "    label, _ = fn.rsplit('_', 1)\n",
    "    if not label in label_to_idx:\n",
    "        label_to_idx[label] = len(idx_to_labels)\n",
    "        idx_to_labels.append(label)\n",
    "    labels.append(label_to_idx[label])\n",
    "len(idx_to_labels)"
   ]
  },
  {
   "cell_type": "code",
   "execution_count": null,
   "metadata": {
    "collapsed": true
   },
   "outputs": [],
   "source": [
    "def fetch_pet(pet):\n",
    "    img = image.load_img('pet_images/' + pet, target_size=(299, 299))\n",
    "    return image.img_to_array(img)\n",
    "\n",
    "img_vector = np.asarray([fetch_pet(pet) for pet in pet_images_fn])"
   ]
  },
  {
   "cell_type": "code",
   "execution_count": null,
   "metadata": {},
   "outputs": [],
   "source": [
    "base_model = InceptionV3(weights='imagenet', include_top=False, input_shape=(299, 299, 3))\n",
    "for layer in base_model.layers:\n",
    "    layer.trainable = False\n",
    "\n",
    "pool_2d = GlobalAveragePooling2D(name='pool_2d')(base_model.output)\n",
    "dense = Dense(1024, name='dense', activation='relu')(pool_2d)\n",
    "predictions = Dense(len(idx_to_labels), activation='softmax')(dense)\n",
    "model = Model(inputs=base_model.input, outputs=predictions)\n",
    "model.compile(optimizer='rmsprop', loss='categorical_crossentropy', metrics=['accuracy'])\n",
    "model.summary()"
   ]
  },
  {
   "cell_type": "code",
   "execution_count": null,
   "metadata": {},
   "outputs": [],
   "source": [
    "# 0.9448\n",
    "y = np.zeros((len(labels), len(idx_to_labels)))\n",
    "for idx, label in enumerate(labels):\n",
    "    y[idx][label] = 1\n",
    "\n",
    "model.fit(\n",
    "    img_vector, y,\n",
    "    batch_size=128,\n",
    "    epochs=15,\n",
    "    verbose=2\n",
    ")"
   ]
  },
  {
   "cell_type": "code",
   "execution_count": null,
   "metadata": {
    "collapsed": true
   },
   "outputs": [],
   "source": [
    "unfreeze = False\n",
    "for layer in base_model.layers:\n",
    "    if unfreeze:\n",
    "        layer.trainable = True\n",
    "    if layer.name == 'mixed9':\n",
    "        unfreeze = True\n",
    "model.compile(optimizer=SGD(lr=0.0001, momentum=0.9), \n",
    "              loss='categorical_crossentropy', metrics=['accuracy'])"
   ]
  },
  {
   "cell_type": "code",
   "execution_count": null,
   "metadata": {},
   "outputs": [],
   "source": [
    "model.fit(\n",
    "    img_vector, y,\n",
    "    batch_size=128,\n",
    "    epochs=10,\n",
    "    verbose=2\n",
    ")"
   ]
  },
  {
   "cell_type": "code",
   "execution_count": null,
   "metadata": {
    "collapsed": true
   },
   "outputs": [],
   "source": [
    "json.dump(idx_to_labels, open('../data/zoo/09.3 pet_labels.json', 'w'))\n",
    "model.save('../data/zoo/09.3 retrained pet recognizer.h5')\n"
   ]
  },
  {
   "cell_type": "code",
   "execution_count": null,
   "metadata": {
    "collapsed": true
   },
   "outputs": [],
   "source": []
  }
 ],
 "metadata": {
  "kernelspec": {
   "display_name": "Python 3",
   "language": "python",
   "name": "python3"
  },
  "language_info": {
   "codemirror_mode": {
    "name": "ipython",
    "version": 3
   },
   "file_extension": ".py",
   "mimetype": "text/x-python",
   "name": "python",
   "nbconvert_exporter": "python",
   "pygments_lexer": "ipython3",
   "version": "3.5.2"
  }
 },
 "nbformat": 4,
 "nbformat_minor": 2
}