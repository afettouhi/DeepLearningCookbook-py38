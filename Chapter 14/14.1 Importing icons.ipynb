{
 "cells": [
  {
   "cell_type": "code",
   "execution_count": 1,
   "metadata": {},
   "outputs": [],
   "source": [
    "import plyvel\n",
    "from svglib.svglib import svg2rlg\n",
    "from reportlab.graphics import renderPM\n",
    "import re\n",
    "from io import BytesIO\n",
    "import shutil\n",
    "from PIL import Image\n",
    "import os\n",
    "import json\n",
    "import unicodedata"
   ]
  },
  {
   "cell_type": "code",
   "execution_count": 2,
   "metadata": {},
   "outputs": [],
   "source": [
    "# Adjust to your local path:\n",
    "path = '/home/af/Hentninger/Icons8 v5.7.4/Icons8.app/Contents/Resources/icons-db4'\n",
    "db = plyvel.DB(path)"
   ]
  },
  {
   "cell_type": "code",
   "execution_count": 3,
   "metadata": {},
   "outputs": [],
   "source": [
    "splitter = re.compile(b'[\\x00-\\x08]')\n",
    "\n",
    "def parse_value(value):\n",
    "    res = {}\n",
    "    prev = ''\n",
    "    for elem in splitter.split(value):\n",
    "        if not elem:\n",
    "            continue\n",
    "        try:\n",
    "            elem = elem.decode('utf8')\n",
    "        except UnicodeDecodeError:\n",
    "            continue\n",
    "        if elem in ('category', 'name', 'platform', 'canonical_name', 'svg'):\n",
    "            if elem == 'name' and len(prev) == 1:\n",
    "                prev = 'u_' + unicodedata.name(prev).lower().replace(' ', '_')\n",
    "            res[elem] = prev\n",
    "        prev = elem\n",
    "    return res\n",
    "\n",
    "for _, value in db:\n",
    "    res = parse_value(value)\n",
    "    break"
   ]
  },
  {
   "cell_type": "code",
   "execution_count": 4,
   "metadata": {},
   "outputs": [
    {
     "data": {
      "text/plain": "8565"
     },
     "execution_count": 4,
     "metadata": {},
     "output_type": "execute_result"
    }
   ],
   "source": [
    "icons = {}\n",
    "\n",
    "for key, value in db:\n",
    "    try:\n",
    "        res = parse_value(value)\n",
    "    except ValueError:\n",
    "        continue\n",
    "    if res.get('platform') == 'ios':\n",
    "        name = res.get('name')\n",
    "        if not name:\n",
    "            name = res.get('canonical_name')\n",
    "            if not name:\n",
    "                continue\n",
    "            name = name.lower().replace(' ', '_')\n",
    "        icons[name] = res\n",
    "len(icons)"
   ]
  },
  {
   "cell_type": "code",
   "execution_count": 5,
   "metadata": {},
   "outputs": [],
   "source": [
    "SIZES = (16, 28, 32, 50)\n",
    "\n",
    "if os.path.isdir('icons'):\n",
    "    shutil.rmtree('icons')\n",
    "os.mkdir('icons')\n",
    "for size in SIZES:\n",
    "    os.mkdir('icons/png%s' % size)\n",
    "os.mkdir('icons/svg')"
   ]
  },
  {
   "cell_type": "code",
   "execution_count": 7,
   "metadata": {},
   "outputs": [
    {
     "ename": "AttributeError",
     "evalue": "'Image' object has no attribute 'fromstring'",
     "output_type": "error",
     "traceback": [
      "\u001B[0;31m---------------------------------------------------------------------------\u001B[0m",
      "\u001B[0;31mAttributeError\u001B[0m                            Traceback (most recent call last)",
      "\u001B[0;32m<ipython-input-7-e0bbba590956>\u001B[0m in \u001B[0;36m<module>\u001B[0;34m\u001B[0m\n\u001B[1;32m     12\u001B[0m         \u001B[0;32mcontinue\u001B[0m\u001B[0;34m\u001B[0m\u001B[0;34m\u001B[0m\u001B[0m\n\u001B[1;32m     13\u001B[0m     \u001B[0mopen\u001B[0m\u001B[0;34m(\u001B[0m\u001B[0;34m'icons/svg/%s.svg'\u001B[0m \u001B[0;34m%\u001B[0m \u001B[0micon\u001B[0m\u001B[0;34m[\u001B[0m\u001B[0;34m'name'\u001B[0m\u001B[0;34m]\u001B[0m\u001B[0;34m,\u001B[0m \u001B[0;34m'w'\u001B[0m\u001B[0;34m)\u001B[0m\u001B[0;34m.\u001B[0m\u001B[0mwrite\u001B[0m\u001B[0;34m(\u001B[0m\u001B[0msvg\u001B[0m\u001B[0;34m)\u001B[0m\u001B[0;34m\u001B[0m\u001B[0;34m\u001B[0m\u001B[0m\n\u001B[0;32m---> 14\u001B[0;31m     \u001B[0mp\u001B[0m \u001B[0;34m=\u001B[0m \u001B[0mrenderPM\u001B[0m\u001B[0;34m.\u001B[0m\u001B[0mdrawToPIL\u001B[0m\u001B[0;34m(\u001B[0m\u001B[0mdrawing\u001B[0m\u001B[0;34m)\u001B[0m\u001B[0;34m\u001B[0m\u001B[0;34m\u001B[0m\u001B[0m\n\u001B[0m\u001B[1;32m     15\u001B[0m     \u001B[0;32mfor\u001B[0m \u001B[0msize\u001B[0m \u001B[0;32min\u001B[0m \u001B[0mSIZES\u001B[0m\u001B[0;34m:\u001B[0m\u001B[0;34m\u001B[0m\u001B[0;34m\u001B[0m\u001B[0m\n\u001B[1;32m     16\u001B[0m         \u001B[0mresized\u001B[0m \u001B[0;34m=\u001B[0m \u001B[0mp\u001B[0m\u001B[0;34m.\u001B[0m\u001B[0mresize\u001B[0m\u001B[0;34m(\u001B[0m\u001B[0;34m(\u001B[0m\u001B[0msize\u001B[0m\u001B[0;34m,\u001B[0m \u001B[0msize\u001B[0m\u001B[0;34m)\u001B[0m\u001B[0;34m,\u001B[0m \u001B[0mImage\u001B[0m\u001B[0;34m.\u001B[0m\u001B[0mANTIALIAS\u001B[0m\u001B[0;34m)\u001B[0m\u001B[0;34m\u001B[0m\u001B[0;34m\u001B[0m\u001B[0m\n",
      "\u001B[0;32m~/Dokumenter/Programs/miniconda3/envs/DeepLearningCookbook-py38/lib/python3.8/site-packages/reportlab/graphics/renderPM.py\u001B[0m in \u001B[0;36mdrawToPIL\u001B[0;34m(d, dpi, bg, configPIL, showBoundary)\u001B[0m\n\u001B[1;32m    668\u001B[0m \u001B[0;34m\u001B[0m\u001B[0m\n\u001B[1;32m    669\u001B[0m \u001B[0;32mdef\u001B[0m \u001B[0mdrawToPIL\u001B[0m\u001B[0;34m(\u001B[0m\u001B[0md\u001B[0m\u001B[0;34m,\u001B[0m \u001B[0mdpi\u001B[0m\u001B[0;34m=\u001B[0m\u001B[0;36m72\u001B[0m\u001B[0;34m,\u001B[0m \u001B[0mbg\u001B[0m\u001B[0;34m=\u001B[0m\u001B[0;36m0xffffff\u001B[0m\u001B[0;34m,\u001B[0m \u001B[0mconfigPIL\u001B[0m\u001B[0;34m=\u001B[0m\u001B[0;32mNone\u001B[0m\u001B[0;34m,\u001B[0m \u001B[0mshowBoundary\u001B[0m\u001B[0;34m=\u001B[0m\u001B[0mrl_config\u001B[0m\u001B[0;34m.\u001B[0m\u001B[0m_unset_\u001B[0m\u001B[0;34m)\u001B[0m\u001B[0;34m:\u001B[0m\u001B[0;34m\u001B[0m\u001B[0;34m\u001B[0m\u001B[0m\n\u001B[0;32m--> 670\u001B[0;31m     \u001B[0;32mreturn\u001B[0m \u001B[0mdrawToPMCanvas\u001B[0m\u001B[0;34m(\u001B[0m\u001B[0md\u001B[0m\u001B[0;34m,\u001B[0m \u001B[0mdpi\u001B[0m\u001B[0;34m=\u001B[0m\u001B[0mdpi\u001B[0m\u001B[0;34m,\u001B[0m \u001B[0mbg\u001B[0m\u001B[0;34m=\u001B[0m\u001B[0mbg\u001B[0m\u001B[0;34m,\u001B[0m \u001B[0mconfigPIL\u001B[0m\u001B[0;34m=\u001B[0m\u001B[0mconfigPIL\u001B[0m\u001B[0;34m,\u001B[0m \u001B[0mshowBoundary\u001B[0m\u001B[0;34m=\u001B[0m\u001B[0mshowBoundary\u001B[0m\u001B[0;34m)\u001B[0m\u001B[0;34m.\u001B[0m\u001B[0mtoPIL\u001B[0m\u001B[0;34m(\u001B[0m\u001B[0;34m)\u001B[0m\u001B[0;34m\u001B[0m\u001B[0;34m\u001B[0m\u001B[0m\n\u001B[0m\u001B[1;32m    671\u001B[0m \u001B[0;34m\u001B[0m\u001B[0m\n\u001B[1;32m    672\u001B[0m \u001B[0;32mdef\u001B[0m \u001B[0mdrawToPILP\u001B[0m\u001B[0;34m(\u001B[0m\u001B[0md\u001B[0m\u001B[0;34m,\u001B[0m \u001B[0mdpi\u001B[0m\u001B[0;34m=\u001B[0m\u001B[0;36m72\u001B[0m\u001B[0;34m,\u001B[0m \u001B[0mbg\u001B[0m\u001B[0;34m=\u001B[0m\u001B[0;36m0xffffff\u001B[0m\u001B[0;34m,\u001B[0m \u001B[0mconfigPIL\u001B[0m\u001B[0;34m=\u001B[0m\u001B[0;32mNone\u001B[0m\u001B[0;34m,\u001B[0m \u001B[0mshowBoundary\u001B[0m\u001B[0;34m=\u001B[0m\u001B[0mrl_config\u001B[0m\u001B[0;34m.\u001B[0m\u001B[0m_unset_\u001B[0m\u001B[0;34m)\u001B[0m\u001B[0;34m:\u001B[0m\u001B[0;34m\u001B[0m\u001B[0;34m\u001B[0m\u001B[0m\n",
      "\u001B[0;32m~/Dokumenter/Programs/miniconda3/envs/DeepLearningCookbook-py38/lib/python3.8/site-packages/reportlab/graphics/renderPM.py\u001B[0m in \u001B[0;36mtoPIL\u001B[0;34m(self)\u001B[0m\n\u001B[1;32m    307\u001B[0m     \u001B[0;32mdef\u001B[0m \u001B[0mtoPIL\u001B[0m\u001B[0;34m(\u001B[0m\u001B[0mself\u001B[0m\u001B[0;34m)\u001B[0m\u001B[0;34m:\u001B[0m\u001B[0;34m\u001B[0m\u001B[0;34m\u001B[0m\u001B[0m\n\u001B[1;32m    308\u001B[0m         \u001B[0mim\u001B[0m \u001B[0;34m=\u001B[0m \u001B[0m_getImage\u001B[0m\u001B[0;34m(\u001B[0m\u001B[0;34m)\u001B[0m\u001B[0;34m.\u001B[0m\u001B[0mnew\u001B[0m\u001B[0;34m(\u001B[0m\u001B[0;34m'RGB'\u001B[0m\u001B[0;34m,\u001B[0m \u001B[0msize\u001B[0m\u001B[0;34m=\u001B[0m\u001B[0;34m(\u001B[0m\u001B[0mself\u001B[0m\u001B[0;34m.\u001B[0m\u001B[0m_gs\u001B[0m\u001B[0;34m.\u001B[0m\u001B[0mwidth\u001B[0m\u001B[0;34m,\u001B[0m \u001B[0mself\u001B[0m\u001B[0;34m.\u001B[0m\u001B[0m_gs\u001B[0m\u001B[0;34m.\u001B[0m\u001B[0mheight\u001B[0m\u001B[0;34m)\u001B[0m\u001B[0;34m)\u001B[0m\u001B[0;34m\u001B[0m\u001B[0;34m\u001B[0m\u001B[0m\n\u001B[0;32m--> 309\u001B[0;31m         \u001B[0mgetattr\u001B[0m\u001B[0;34m(\u001B[0m\u001B[0mim\u001B[0m\u001B[0;34m,\u001B[0m\u001B[0;34m'frombytes'\u001B[0m\u001B[0;34m,\u001B[0m\u001B[0mgetattr\u001B[0m\u001B[0;34m(\u001B[0m\u001B[0mim\u001B[0m\u001B[0;34m,\u001B[0m\u001B[0;34m'fromstring'\u001B[0m\u001B[0;34m)\u001B[0m\u001B[0;34m)\u001B[0m\u001B[0;34m(\u001B[0m\u001B[0mself\u001B[0m\u001B[0;34m.\u001B[0m\u001B[0m_gs\u001B[0m\u001B[0;34m.\u001B[0m\u001B[0mpixBuf\u001B[0m\u001B[0;34m)\u001B[0m\u001B[0;34m\u001B[0m\u001B[0;34m\u001B[0m\u001B[0m\n\u001B[0m\u001B[1;32m    310\u001B[0m         \u001B[0;32mreturn\u001B[0m \u001B[0mim\u001B[0m\u001B[0;34m\u001B[0m\u001B[0;34m\u001B[0m\u001B[0m\n\u001B[1;32m    311\u001B[0m \u001B[0;34m\u001B[0m\u001B[0m\n",
      "\u001B[0;31mAttributeError\u001B[0m: 'Image' object has no attribute 'fromstring'"
     ]
    }
   ],
   "source": [
    "saved = []\n",
    "for icon in icons.values():\n",
    "    icon = dict(icon)\n",
    "    if not 'svg' in icon:\n",
    "        continue\n",
    "    svg = icon.pop('svg')\n",
    "    try:\n",
    "        drawing = svg2rlg(BytesIO(svg.encode('utf8')))\n",
    "    except ValueError:\n",
    "        continue\n",
    "    except AttributeError:\n",
    "        continue\n",
    "    open('icons/svg/%s.svg' % icon['name'], 'w').write(svg)\n",
    "    p = renderPM.drawToPIL(drawing)\n",
    "    for size in SIZES:\n",
    "        resized = p.resize((size, size), Image.ANTIALIAS)\n",
    "        resized.save('icons/png%s/%s.png' % (size, icon['name']))\n",
    "    saved.append(icon)\n",
    "json.dump(saved, open('icons/index.json', 'w'), indent=2)\n",
    "len(saved)\n",
    "    "
   ]
  },
  {
   "cell_type": "code",
   "execution_count": null,
   "metadata": {
    "pycharm": {
     "name": "#%%\n"
    }
   },
   "outputs": [],
   "source": [
    "\n"
   ]
  }
 ],
 "metadata": {
  "kernelspec": {
   "display_name": "Python 3",
   "language": "python",
   "name": "python3"
  },
  "language_info": {
   "codemirror_mode": {
    "name": "ipython",
    "version": 3
   },
   "file_extension": ".py",
   "mimetype": "text/x-python",
   "name": "python",
   "nbconvert_exporter": "python",
   "pygments_lexer": "ipython3",
   "version": "3.5.2"
  }
 },
 "nbformat": 4,
 "nbformat_minor": 2
}