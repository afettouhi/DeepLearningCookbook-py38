{
 "cells": [
  {
   "cell_type": "code",
   "execution_count": null,
   "metadata": {
    "collapsed": true
   },
   "outputs": [],
   "source": [
    "from keras.layers import Input, Dense, Conv2D, MaxPooling2D, UpSampling2D, Reshape, Concatenate, LSTM, Dropout\n",
    "from keras.models import Model\n",
    "from keras.optimizers import RMSprop\n",
    "from keras.layers.wrappers import TimeDistributed\n",
    "from keras.preprocessing.image import load_img, img_to_array, ImageDataGenerator\n",
    "from keras import backend as K\n",
    "import random\n",
    "import matplotlib.pyplot as plt\n",
    "import json\n",
    "import keras.callbacks\n",
    "import glob\n",
    "from sklearn.model_selection import train_test_split\n",
    "import numpy as np\n",
    "from io import BytesIO\n",
    "import PIL\n",
    "from IPython.display import clear_output, Image, display, HTML"
   ]
  },
  {
   "cell_type": "code",
   "execution_count": null,
   "metadata": {},
   "outputs": [],
   "source": [
    "def encode_icon(img, icon_size):\n",
    "    size_last_x = 0\n",
    "    encoded = []\n",
    "    for y in range(icon_size):\n",
    "        for x in range(icon_size):\n",
    "            p = img.getpixel((x, y))\n",
    "            if img.getpixel((x, y)) < 192:\n",
    "                encoded.append(x)\n",
    "                size_last_x = len(encoded)\n",
    "        encoded.append(icon_size)\n",
    "    return encoded[:size_last_x]\n",
    "\n",
    "\n",
    "def decode_icon(encoded, icon_size, rows=None, stop_token=None):\n",
    "    y = 0\n",
    "    for idx in encoded:\n",
    "        if idx == icon_size:\n",
    "            y += 1\n",
    "        elif idx == icon_size + 1:\n",
    "            break\n",
    "        else:\n",
    "            x = idx\n",
    "            yield x, y\n",
    "            \n",
    "def make_array(icons):\n",
    "    res = []\n",
    "    for icon in icons:\n",
    "        res.extend(icon)\n",
    "        res.append(33)\n",
    "    return np.asarray(res)\n",
    "\n",
    "def load_icons(train_size=0.90):\n",
    "    icon_index = json.load(open('icons/index.json'))\n",
    "    x = []\n",
    "    img_rows, img_cols = 32, 32\n",
    "    for icon in icon_index:\n",
    "        if icon['name'].endswith('_filled'):\n",
    "            continue\n",
    "        img_path = 'icons/png32/%s.png' % icon['name']\n",
    "        img = PIL.Image.open(img_path)\n",
    "        if img.mode != 'L':\n",
    "            img = img.convert('L')\n",
    "        x.append(encode_icon(img, 32))\n",
    "    x_train, x_val = train_test_split(x, train_size=train_size)\n",
    "    x_train = make_array(x_train)\n",
    "    x_val = make_array(x_val)\n",
    "    return x_train, x_val\n",
    "\n",
    "x_train, x_test = load_icons()\n",
    "x_train.shape, x_test.shape"
   ]
  },
  {
   "cell_type": "code",
   "execution_count": null,
   "metadata": {},
   "outputs": [],
   "source": [
    "def icon_rnn_model(num_chars, num_layers, num_nodes=512, dropout=0.1):\n",
    "    input = Input(shape=(None, num_chars), name='input')\n",
    "    prev = input\n",
    "    for i in range(num_layers):\n",
    "        lstm = LSTM(num_nodes, return_sequences=True, name='lstm_layer_%d' % (i + 1))(prev)\n",
    "        if dropout:\n",
    "            prev = Dropout(dropout)(lstm)\n",
    "        else:\n",
    "            prev = lstm\n",
    "    dense = TimeDistributed(Dense(num_chars, name='dense', activation='softmax'))(prev)\n",
    "    model = Model(inputs=[input], outputs=[dense])\n",
    "    optimizer = RMSprop(lr=0.01)\n",
    "    model.compile(loss='categorical_crossentropy', optimizer=optimizer, metrics=['accuracy'])\n",
    "    return model\n",
    "\n",
    "model = icon_rnn_model(34, num_layers=2, num_nodes=256, dropout=0)\n",
    "model.summary()"
   ]
  },
  {
   "cell_type": "code",
   "execution_count": null,
   "metadata": {},
   "outputs": [],
   "source": [
    "CHUNK_SIZE = 160\n",
    "\n",
    "def data_generator(corpus, icon_size, batch_size, chunk_size):\n",
    "    X = np.zeros((batch_size, chunk_size, icon_size + 2))\n",
    "    y = np.zeros((batch_size, chunk_size, icon_size + 2))\n",
    "    while True:\n",
    "        for row in range(batch_size):\n",
    "            idx = random.randrange(len(corpus) - chunk_size - 1)\n",
    "            chunk = np.zeros((chunk_size + 1, icon_size + 2))\n",
    "            for i in range(chunk_size + 1):\n",
    "                chunk[i, corpus[idx + i]] = 1\n",
    "            X[row, :, :] = chunk[:chunk_size]\n",
    "            y[row, :, :] = chunk[1:]\n",
    "        yield X, y\n",
    "\n",
    "next(data_generator(x_train, 32, 1, chunk_size=20))"
   ]
  },
  {
   "cell_type": "code",
   "execution_count": null,
   "metadata": {},
   "outputs": [],
   "source": [
    "early = keras.callbacks.EarlyStopping(monitor='loss',\n",
    "                              min_delta=0.03,\n",
    "                              patience=3,\n",
    "                              verbose=0, mode='auto')\n",
    "\n",
    "BATCH_SIZE = 256\n",
    "model.fit_generator(\n",
    "    data_generator(x_train, 32, batch_size=BATCH_SIZE, chunk_size=CHUNK_SIZE),\n",
    "    validation_data=data_generator(x_test, 32, batch_size=BATCH_SIZE, chunk_size=CHUNK_SIZE),\n",
    "    epochs=100,\n",
    "    callbacks=[early,],\n",
    "    steps_per_epoch=2 * len(x_train) / (BATCH_SIZE * CHUNK_SIZE),\n",
    "    validation_steps=2 * len(x_test) / (BATCH_SIZE * CHUNK_SIZE),\n",
    "    verbose=2\n",
    ")"
   ]
  },
  {
   "cell_type": "code",
   "execution_count": null,
   "metadata": {},
   "outputs": [],
   "source": [
    "x_train.shape"
   ]
  },
  {
   "cell_type": "code",
   "execution_count": null,
   "metadata": {
    "collapsed": true
   },
   "outputs": [],
   "source": [
    "def generate_icons(model, num=2, diversity=1.0):\n",
    "    start_index = random.randint(0, len(x_test) - CHUNK_SIZE - 1)\n",
    "    generated = x_test[start_index: start_index + CHUNK_SIZE]\n",
    "    sofar = None\n",
    "    while num > 0:\n",
    "        x = np.zeros((1, len(generated), 34))\n",
    "        for t, char in enumerate(generated):\n",
    "            x[0, t, char] = 1.\n",
    "        preds = model.predict(x, verbose=0)[0]\n",
    "        if diversity is None:\n",
    "            next_index = np.argmax(preds[len(generated) - 1])\n",
    "        else:\n",
    "            preds = np.asarray(preds[len(generated) - 1]).astype('float64')\n",
    "            preds = np.log(preds) / diversity\n",
    "            exp_preds = np.exp(preds)\n",
    "            preds = exp_preds / np.sum(exp_preds)\n",
    "            probas = np.random.multinomial(1, preds, 1)\n",
    "            next_index = np.argmax(probas)\n",
    "        generated[:-1] = generated[1:]\n",
    "        generated[-1] = next_index\n",
    "        if sofar is not None:\n",
    "            if next_index == 33:\n",
    "                icon = PIL.Image.new('L', (32, 32), 'white')\n",
    "                for x, y in decode_icon(sofar, 32):\n",
    "                    if y < 32:\n",
    "                        icon.putpixel((x, y), 0)\n",
    "                yield icon\n",
    "                num -= 1\n",
    "            else:\n",
    "                sofar.append(next_index)\n",
    "        if next_index == 33:\n",
    "            sofar = []\n",
    "    return sofar\n"
   ]
  },
  {
   "cell_type": "code",
   "execution_count": null,
   "metadata": {},
   "outputs": [],
   "source": [
    "cols = 10\n",
    "rows = 10\n",
    "overview = PIL.Image.new('RGB', (cols * 36 + 4, rows * 36 + 4), (128, 128, 128))\n",
    "for idx, icon in enumerate(generate_icons(model, num=cols * rows)):\n",
    "    x = idx % cols\n",
    "    y = idx // cols\n",
    "    overview.paste(icon, (x * 36 + 4, y * 36 + 4))\n",
    "overview\n"
   ]
  },
  {
   "cell_type": "code",
   "execution_count": null,
   "metadata": {
    "collapsed": true
   },
   "outputs": [],
   "source": []
  }
 ],
 "metadata": {
  "kernelspec": {
   "display_name": "Python 3",
   "language": "python",
   "name": "python3"
  },
  "language_info": {
   "codemirror_mode": {
    "name": "ipython",
    "version": 3
   },
   "file_extension": ".py",
   "mimetype": "text/x-python",
   "name": "python",
   "nbconvert_exporter": "python",
   "pygments_lexer": "ipython3",
   "version": "3.5.2"
  }
 },
 "nbformat": 4,
 "nbformat_minor": 2
}