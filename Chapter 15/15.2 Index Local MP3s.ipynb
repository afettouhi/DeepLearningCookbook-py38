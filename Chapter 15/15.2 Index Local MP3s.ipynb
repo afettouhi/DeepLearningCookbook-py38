{
 "cells": [
  {
   "cell_type": "code",
   "execution_count": null,
   "metadata": {},
   "outputs": [],
   "source": [
    "import os\n",
    "from tinytag import TinyTag, TinyTagException\n",
    "from sklearn.neighbors import NearestNeighbors\n",
    "from collections import defaultdict\n",
    "from keras.models import load_model\n",
    "import librosa\n",
    "from collections import Counter\n",
    "import multiprocessing\n",
    "from tqdm import tqdm\n",
    "from keras.models import Model\n",
    "import numpy as np\n",
    "import sounddevice as sd"
   ]
  },
  {
   "cell_type": "code",
   "execution_count": null,
   "metadata": {},
   "outputs": [],
   "source": [
    "MUSIC_ROOT = '/home/af/Dokumenter/Personal/Music/Mors Musik/'\n",
    "mp3s = []\n",
    "for root, subdirs, files in os.walk(MUSIC_ROOT):\n",
    "    for fn in files:\n",
    "        if fn.endswith('.mp3'):\n",
    "            mp3s.append(os.path.join(root, fn))\n",
    "len(mp3s)"
   ]
  },
  {
   "cell_type": "code",
   "execution_count": null,
   "metadata": {},
   "outputs": [],
   "source": [
    "TO_SKIP = {'Podcast', 'Books & Spoken'}\n",
    "\n",
    "def process_mp3(path):\n",
    "    try:\n",
    "        tag = TinyTag.get(path)\n",
    "        if tag.genre in TO_SKIP:\n",
    "            return None\n",
    "    except TinyTagException:\n",
    "        print('error')\n",
    "        return None\n",
    "    signal, sr = librosa.load(path, res_type='kaiser_fast', offset=30, duration=30)\n",
    "    try:\n",
    "        melspec = librosa.feature.melspectrogram(signal, sr=sr).T[:1280,]\n",
    "        if len(melspec) != 1280:\n",
    "            return None\n",
    "    except ValueError:\n",
    "        return None\n",
    "    return {'path': path,\n",
    "            'melspecs': np.asarray(np.split(melspec, 10)),\n",
    "            'tag': tag}\n",
    "\n",
    "songs = [process_mp3(path) for path in tqdm(mp3s[:1000])]\n",
    "songs = [song for song in songs if song]"
   ]
  },
  {
   "cell_type": "code",
   "execution_count": null,
   "metadata": {},
   "outputs": [],
   "source": [
    "inputs = []\n",
    "for song in songs:\n",
    "    inputs.extend(song['melspecs'])\n",
    "inputs = np.array(inputs)\n",
    "inputs.shape"
   ]
  },
  {
   "cell_type": "code",
   "execution_count": null,
   "metadata": {
    "pycharm": {
     "is_executing": true
    }
   },
   "outputs": [],
   "source": [
    "cnn_model = load_model('../data/zoo/15/song_classify.h5')\n",
    "vectorize_model = Model(inputs=cnn_model.input, outputs=cnn_model.layers[-4].output)\n",
    "vectors = vectorize_model.predict(inputs)\n",
    "vectors.shape"
   ]
  },
  {
   "cell_type": "code",
   "execution_count": null,
   "metadata": {},
   "outputs": [],
   "source": [
    "nbrs = NearestNeighbors(n_neighbors=10, algorithm='ball_tree').fit(vectors)\n",
    "\n",
    "def most_similar_songs(song_idx):\n",
    "    distances, indices = nbrs.kneighbors(vectors[song_idx * 10: song_idx * 10 + 10])\n",
    "    c = Counter()\n",
    "    for row in indices:\n",
    "        for idx in row[1:]:\n",
    "            c[idx // 10] += 1\n",
    "    return c.most_common()"
   ]
  },
  {
   "cell_type": "code",
   "execution_count": null,
   "metadata": {},
   "outputs": [],
   "source": [
    "song_idx = 7\n",
    "print(songs[song_idx]['path'])\n",
    "\n",
    "print('---')\n",
    "for idx, score in most_similar_songs(song_idx)[:5]:\n",
    "    print(songs[idx]['path'], score)\n",
    "print('')"
   ]
  },
  {
   "cell_type": "code",
   "execution_count": null,
   "metadata": {},
   "outputs": [],
   "source": [
    "duration = 30  # seconds\n",
    "fs = 22050\n",
    "myrecording = sd.rec(int(duration * fs), samplerate=fs, channels=1)"
   ]
  },
  {
   "cell_type": "code",
   "execution_count": null,
   "metadata": {},
   "outputs": [],
   "source": [
    "myrecording.shape"
   ]
  },
  {
   "cell_type": "code",
   "execution_count": null,
   "metadata": {},
   "outputs": [],
   "source": [
    "sd.play(myrecording, samplerate=fs)"
   ]
  },
  {
   "cell_type": "code",
   "execution_count": null,
   "metadata": {},
   "outputs": [],
   "source": [
    "myrecording.min()"
   ]
  },
  {
   "cell_type": "code",
   "execution_count": null,
   "metadata": {},
   "outputs": [],
   "source": [
    "signal, sr = librosa.load('/home/af/Dokumenter/Personal/Music/Mors Musik/Diverse/Dansk filmmusik og danske sange Vol.1/'\n",
    "                          '01 - I Danmark er jeg født.mp3', res_type='kaiser_fast', offset=0, duration=30)\n",
    "\n",
    "melspec = librosa.feature.melspectrogram(signal, sr=sr).T[:1280,]\n",
    "melspecs = np.asarray(np.split(melspec, 10))\n",
    "melspecs.shape"
   ]
  },
  {
   "cell_type": "code",
   "execution_count": null,
   "metadata": {},
   "outputs": [],
   "source": [
    "recorded_vectors = vectorize_model.predict(melspecs)"
   ]
  },
  {
   "cell_type": "code",
   "execution_count": null,
   "metadata": {},
   "outputs": [],
   "source": [
    "distances, indices = nbrs.kneighbors(recorded_vectors)\n",
    "c = Counter()\n",
    "for row in indices:\n",
    "    for idx in row[1:]:\n",
    "        c[idx // 10] += 1\n",
    "for idx, _ in c.most_common():\n",
    "    print(songs[idx]['path'])\n"
   ]
  },
  {
   "cell_type": "code",
   "execution_count": null,
   "metadata": {},
   "outputs": [],
   "source": [
    "signal, sr = librosa.load('/home/af/Dokumenter/Personal/Music/Mors Musik/Diverse/Dansk filmmusik og danske sange Vol.1/'\n",
    "                          '01 - I Danmark er jeg født.mp3', res_type='kaiser_fast', offset=0, duration=30)"
   ]
  },
  {
   "cell_type": "code",
   "execution_count": null,
   "metadata": {},
   "outputs": [],
   "source": [
    "sd.play(signal.flatten(), samplerate=sr)"
   ]
  },
  {
   "cell_type": "code",
   "execution_count": null,
   "metadata": {},
   "outputs": [],
   "source": []
  }
 ],
 "metadata": {
  "kernelspec": {
   "display_name": "Python 3",
   "language": "python",
   "name": "python3"
  },
  "language_info": {
   "codemirror_mode": {
    "name": "ipython",
    "version": 3
   },
   "file_extension": ".py",
   "mimetype": "text/x-python",
   "name": "python",
   "nbconvert_exporter": "python",
   "pygments_lexer": "ipython3",
   "version": "3.5.2"
  }
 },
 "nbformat": 4,
 "nbformat_minor": 2
}