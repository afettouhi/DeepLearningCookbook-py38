{
 "cells": [
  {
   "cell_type": "code",
   "execution_count": null,
   "metadata": {},
   "outputs": [],
   "source": [
    "import gensim\n",
    "import sqlite3\n",
    "from operator import itemgetter"
   ]
  },
  {
   "cell_type": "code",
   "execution_count": null,
   "metadata": {},
   "outputs": [],
   "source": [
    "class WordSplitter(object):\n",
    "    def __init__(self, filename):\n",
    "        self.filename = filename\n",
    " \n",
    "    def __iter__(self):\n",
    "        with open(self.filename) as fin:\n",
    "            for line in fin:\n",
    "                yield line.split()\n",
    "\n",
    "model = gensim.models.Word2Vec(model_input, min_count=4)"
   ]
  },
  {
   "cell_type": "code",
   "execution_count": null,
   "metadata": {},
   "outputs": [],
   "source": [
    "model.save(open('zoo/15/songs.word2vec', 'wb'))"
   ]
  },
  {
   "cell_type": "code",
   "execution_count": null,
   "metadata": {},
   "outputs": [],
   "source": [
    "conn = sqlite3.connect('data/songs.db')\n",
    "def find_song(song_name, limit=10):\n",
    "    c = conn.cursor()\n",
    "    c.execute(\"SELECT * FROM songs WHERE UPPER(name) LIKE '%\" + song_name + \"%'\")\n",
    "    res = sorted((x + (model.wv.vocab[x[0]].count,) \n",
    "                  for x in c.fetchall() if x[0] in model.wv.vocab),\n",
    "                 key=itemgetter(-1), reverse=True)\n",
    "    return [*res][:limit]\n",
    "\n",
    "for t in find_song('the eye of the tiger'):\n",
    "    print(*t)"
   ]
  },
  {
   "cell_type": "code",
   "execution_count": null,
   "metadata": {},
   "outputs": [],
   "source": [
    "def suggest_songs(song_id):\n",
    "    c = conn.cursor()\n",
    "    similar = dict(model.most_similar([song_id]))\n",
    "    song_ids = ', '.join((\"'%s'\" % x) for x in similar.keys())\n",
    "    c.execute(\"SELECT * FROM songs WHERE id in (%s)\" % song_ids)\n",
    "    res = sorted((rec + (similar[rec[0]],) for rec in c.fetchall()), \n",
    "                 key=itemgetter(-1),\n",
    "                 reverse=True)\n",
    "    return [*res]\n",
    "\n",
    "\n",
    "for t in suggest_songs('4rr0ol3zvLiEBmep7HaHtx'):\n",
    "    print(*t)"
   ]
  },
  {
   "cell_type": "code",
   "execution_count": null,
   "metadata": {},
   "outputs": [],
   "source": [
    "x = model.wv.vocab['2yqVlvXgZ51ynGqwfYADx4']\n",
    "x.count"
   ]
  }
 ],
 "metadata": {
  "kernelspec": {
   "display_name": "Python 3",
   "language": "python",
   "name": "python3"
  },
  "language_info": {
   "codemirror_mode": {
    "name": "ipython",
    "version": 3
   },
   "file_extension": ".py",
   "mimetype": "text/x-python",
   "name": "python",
   "nbconvert_exporter": "python",
   "pygments_lexer": "ipython3",
   "version": "3.5.2"
  }
 },
 "nbformat": 4,
 "nbformat_minor": 2
}