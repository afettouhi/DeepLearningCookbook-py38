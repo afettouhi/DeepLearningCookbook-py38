{
 "cells": [
  {
   "cell_type": "code",
   "execution_count": 1,
   "metadata": {},
   "outputs": [],
   "source": [
    "%matplotlib inline\n",
    "import matplotlib.pyplot as plt\n",
    "plt.rcParams[\"figure.figsize\"] = (12, 8)\n",
    "\n",
    "import gc\n",
    "import os\n",
    "import ast\n",
    "import sys\n",
    "import configparser\n",
    "import glob\n",
    "import librosa\n",
    "import librosa.display\n",
    "from scipy.stats import mode\n",
    "\n",
    "from keras.models import Sequential\n",
    "from keras.models import Model\n",
    "from keras.layers import Input, LSTM\n",
    "from keras.layers import Dense\n",
    "from keras.layers import Dropout\n",
    "from keras.layers import Flatten\n",
    "from keras.layers import Activation\n",
    "from keras.layers.merge import concatenate\n",
    "from keras.layers.convolutional import Conv1D\n",
    "from keras.layers.pooling import MaxPooling1D\n",
    "from keras.layers.pooling import GlobalMaxPooling1D\n",
    "from keras.layers.pooling import GlobalAveragePooling1D\n",
    "from keras.layers.normalization import BatchNormalization\n",
    "from keras.layers.advanced_activations import LeakyReLU\n",
    "\n",
    "import numpy as np\n",
    "from sklearn.metrics import confusion_matrix\n",
    "from sklearn.model_selection import train_test_split\n",
    "from sklearn.metrics import accuracy_score\n",
    "import keras\n",
    "from keras import backend as K"
   ]
  },
  {
   "cell_type": "code",
   "execution_count": 2,
   "metadata": {},
   "outputs": [
    {
     "ename": "IndexError",
     "evalue": "list index out of range",
     "output_type": "error",
     "traceback": [
      "\u001B[0;31m---------------------------------------------------------------------------\u001B[0m",
      "\u001B[0;31mIndexError\u001B[0m                                Traceback (most recent call last)",
      "\u001B[0;32m<ipython-input-2-f1b3b698d38b>\u001B[0m in \u001B[0;36m<module>\u001B[0;34m\u001B[0m\n\u001B[1;32m     18\u001B[0m song_specs, genres, genre_to_idx, idx_to_genre = load_songs('/home/af/Dokumenter/Personal/Music/Mors Musik/'\n\u001B[1;32m     19\u001B[0m                                                             'Andrea Bocelli')\n\u001B[0;32m---> 20\u001B[0;31m \u001B[0msong_specs\u001B[0m\u001B[0;34m[\u001B[0m\u001B[0;36m0\u001B[0m\u001B[0;34m]\u001B[0m\u001B[0;34m.\u001B[0m\u001B[0mshape\u001B[0m\u001B[0;34m\u001B[0m\u001B[0;34m\u001B[0m\u001B[0m\n\u001B[0m\u001B[1;32m     21\u001B[0m \u001B[0;34m\u001B[0m\u001B[0m\n",
      "\u001B[0;31mIndexError\u001B[0m: list index out of range"
     ]
    }
   ],
   "source": [
    "def load_songs(song_folder):\n",
    "    song_specs = []\n",
    "    idx_to_genre = []\n",
    "    genre_to_idx = {}\n",
    "    genres = []\n",
    "    for genre in os.listdir(song_folder):\n",
    "        genre_to_idx[genre] = len(genre_to_idx)\n",
    "        idx_to_genre.append(genre)\n",
    "        genre_folder = os.path.join(song_folder, genre)\n",
    "        for song in os.listdir(genre_folder):\n",
    "            if song.endswith('.au'):\n",
    "                signal, sr = librosa.load(os.path.join(genre_folder, song))\n",
    "                melspec = librosa.feature.melspectrogram(signal, sr=sr).T[:1280,]\n",
    "                song_specs.append(melspec)\n",
    "                genres.append(genre_to_idx[genre])\n",
    "    return song_specs, genres, genre_to_idx, idx_to_genre\n",
    "\n",
    "song_specs, genres, genre_to_idx, idx_to_genre = load_songs('/home/af/Dokumenter/Personal/Music/Mors Musik/'\n",
    "                                                            'Andrea Bocelli')\n",
    "song_specs[0].shape"
   ]
  },
  {
   "cell_type": "code",
   "execution_count": 3,
   "metadata": {},
   "outputs": [
    {
     "ename": "IndexError",
     "evalue": "list index out of range",
     "output_type": "error",
     "traceback": [
      "\u001B[0;31m---------------------------------------------------------------------------\u001B[0m",
      "\u001B[0;31mIndexError\u001B[0m                                Traceback (most recent call last)",
      "\u001B[0;32m<ipython-input-3-17c54370bc5d>\u001B[0m in \u001B[0;36m<module>\u001B[0;34m\u001B[0m\n\u001B[0;32m----> 1\u001B[0;31m librosa.display.specshow(librosa.power_to_db(song_specs[101].T,\n\u001B[0m\u001B[1;32m      2\u001B[0m                                               ref=np.max),\n\u001B[1;32m      3\u001B[0m                           \u001B[0my_axis\u001B[0m\u001B[0;34m=\u001B[0m\u001B[0;34m'mel'\u001B[0m\u001B[0;34m,\u001B[0m \u001B[0mfmax\u001B[0m\u001B[0;34m=\u001B[0m\u001B[0;36m8000\u001B[0m\u001B[0;34m,\u001B[0m\u001B[0;34m\u001B[0m\u001B[0;34m\u001B[0m\u001B[0m\n\u001B[1;32m      4\u001B[0m                           x_axis='time')\n\u001B[1;32m      5\u001B[0m \u001B[0;34m\u001B[0m\u001B[0m\n",
      "\u001B[0;31mIndexError\u001B[0m: list index out of range"
     ]
    }
   ],
   "source": [
    "librosa.display.specshow(librosa.power_to_db(song_specs[101].T,\n",
    "                                              ref=np.max),\n",
    "                          y_axis='mel', fmax=8000,\n",
    "                          x_axis='time')"
   ]
  },
  {
   "cell_type": "code",
   "execution_count": 4,
   "metadata": {},
   "outputs": [
    {
     "ename": "KeyError",
     "evalue": "'classical'",
     "output_type": "error",
     "traceback": [
      "\u001B[0;31m---------------------------------------------------------------------------\u001B[0m",
      "\u001B[0;31mKeyError\u001B[0m                                  Traceback (most recent call last)",
      "\u001B[0;32m<ipython-input-4-c4453003f9a3>\u001B[0m in \u001B[0;36m<module>\u001B[0;34m\u001B[0m\n\u001B[1;32m     13\u001B[0m     \u001B[0mplt\u001B[0m\u001B[0;34m.\u001B[0m\u001B[0mimshow\u001B[0m\u001B[0;34m(\u001B[0m\u001B[0;34m(\u001B[0m\u001B[0mx\u001B[0m \u001B[0;34m*\u001B[0m\u001B[0;36m20\u001B[0m\u001B[0;34m)\u001B[0m\u001B[0;34m.\u001B[0m\u001B[0mclip\u001B[0m\u001B[0;34m(\u001B[0m\u001B[0;36m0\u001B[0m\u001B[0;34m,\u001B[0m \u001B[0;36m1.0\u001B[0m\u001B[0;34m)\u001B[0m\u001B[0;34m)\u001B[0m\u001B[0;34m\u001B[0m\u001B[0;34m\u001B[0m\u001B[0m\n\u001B[1;32m     14\u001B[0m \u001B[0;34m\u001B[0m\u001B[0m\n\u001B[0;32m---> 15\u001B[0;31m \u001B[0mshow_spectogram\u001B[0m\u001B[0;34m(\u001B[0m\u001B[0;34m'classical'\u001B[0m\u001B[0;34m)\u001B[0m\u001B[0;34m\u001B[0m\u001B[0;34m\u001B[0m\u001B[0m\n\u001B[0m\u001B[1;32m     16\u001B[0m \u001B[0;34m\u001B[0m\u001B[0m\n",
      "\u001B[0;32m<ipython-input-4-c4453003f9a3>\u001B[0m in \u001B[0;36mshow_spectogram\u001B[0;34m(show_genre)\u001B[0m\n\u001B[1;32m      1\u001B[0m \u001B[0;32mdef\u001B[0m \u001B[0mshow_spectogram\u001B[0m\u001B[0;34m(\u001B[0m\u001B[0mshow_genre\u001B[0m\u001B[0;34m)\u001B[0m\u001B[0;34m:\u001B[0m\u001B[0;34m\u001B[0m\u001B[0;34m\u001B[0m\u001B[0m\n\u001B[0;32m----> 2\u001B[0;31m     \u001B[0mshow_genre\u001B[0m \u001B[0;34m=\u001B[0m \u001B[0mgenre_to_idx\u001B[0m\u001B[0;34m[\u001B[0m\u001B[0mshow_genre\u001B[0m\u001B[0;34m]\u001B[0m\u001B[0;34m\u001B[0m\u001B[0;34m\u001B[0m\u001B[0m\n\u001B[0m\u001B[1;32m      3\u001B[0m     \u001B[0mspecs\u001B[0m \u001B[0;34m=\u001B[0m \u001B[0;34m[\u001B[0m\u001B[0;34m]\u001B[0m\u001B[0;34m\u001B[0m\u001B[0;34m\u001B[0m\u001B[0m\n\u001B[1;32m      4\u001B[0m     \u001B[0;32mfor\u001B[0m \u001B[0mspec\u001B[0m\u001B[0;34m,\u001B[0m \u001B[0mgenre\u001B[0m \u001B[0;32min\u001B[0m \u001B[0mzip\u001B[0m\u001B[0;34m(\u001B[0m\u001B[0msong_specs\u001B[0m\u001B[0;34m,\u001B[0m \u001B[0mgenres\u001B[0m\u001B[0;34m)\u001B[0m\u001B[0;34m:\u001B[0m\u001B[0;34m\u001B[0m\u001B[0;34m\u001B[0m\u001B[0m\n\u001B[1;32m      5\u001B[0m         \u001B[0;32mif\u001B[0m \u001B[0mshow_genre\u001B[0m \u001B[0;34m==\u001B[0m \u001B[0mgenre\u001B[0m\u001B[0;34m:\u001B[0m\u001B[0;34m\u001B[0m\u001B[0;34m\u001B[0m\u001B[0m\n",
      "\u001B[0;31mKeyError\u001B[0m: 'classical'"
     ]
    }
   ],
   "source": [
    "def show_spectogram(show_genre):\n",
    "    show_genre = genre_to_idx[show_genre]\n",
    "    specs = []\n",
    "    for spec, genre in zip(song_specs, genres):\n",
    "        if show_genre == genre:\n",
    "            specs.append(spec)\n",
    "            if len(specs) == 25:\n",
    "                break\n",
    "    if not specs:\n",
    "        return 'not found!'\n",
    "    x = np.concatenate(specs, axis=1)\n",
    "    x = (x - x.min()) / (x.max() - x.min())\n",
    "    plt.imshow((x *20).clip(0, 1.0))\n",
    "\n",
    "show_spectogram('classical')"
   ]
  },
  {
   "cell_type": "code",
   "execution_count": 5,
   "metadata": {},
   "outputs": [
    {
     "ename": "KeyError",
     "evalue": "'metal'",
     "output_type": "error",
     "traceback": [
      "\u001B[0;31m---------------------------------------------------------------------------\u001B[0m",
      "\u001B[0;31mKeyError\u001B[0m                                  Traceback (most recent call last)",
      "\u001B[0;32m<ipython-input-5-7171abd41dfc>\u001B[0m in \u001B[0;36m<module>\u001B[0;34m\u001B[0m\n\u001B[0;32m----> 1\u001B[0;31m \u001B[0mshow_spectogram\u001B[0m\u001B[0;34m(\u001B[0m\u001B[0;34m'metal'\u001B[0m\u001B[0;34m)\u001B[0m\u001B[0;34m\u001B[0m\u001B[0;34m\u001B[0m\u001B[0m\n\u001B[0m\u001B[1;32m      2\u001B[0m \u001B[0;34m\u001B[0m\u001B[0m\n",
      "\u001B[0;32m<ipython-input-4-c4453003f9a3>\u001B[0m in \u001B[0;36mshow_spectogram\u001B[0;34m(show_genre)\u001B[0m\n\u001B[1;32m      1\u001B[0m \u001B[0;32mdef\u001B[0m \u001B[0mshow_spectogram\u001B[0m\u001B[0;34m(\u001B[0m\u001B[0mshow_genre\u001B[0m\u001B[0;34m)\u001B[0m\u001B[0;34m:\u001B[0m\u001B[0;34m\u001B[0m\u001B[0;34m\u001B[0m\u001B[0m\n\u001B[0;32m----> 2\u001B[0;31m     \u001B[0mshow_genre\u001B[0m \u001B[0;34m=\u001B[0m \u001B[0mgenre_to_idx\u001B[0m\u001B[0;34m[\u001B[0m\u001B[0mshow_genre\u001B[0m\u001B[0;34m]\u001B[0m\u001B[0;34m\u001B[0m\u001B[0;34m\u001B[0m\u001B[0m\n\u001B[0m\u001B[1;32m      3\u001B[0m     \u001B[0mspecs\u001B[0m \u001B[0;34m=\u001B[0m \u001B[0;34m[\u001B[0m\u001B[0;34m]\u001B[0m\u001B[0;34m\u001B[0m\u001B[0;34m\u001B[0m\u001B[0m\n\u001B[1;32m      4\u001B[0m     \u001B[0;32mfor\u001B[0m \u001B[0mspec\u001B[0m\u001B[0;34m,\u001B[0m \u001B[0mgenre\u001B[0m \u001B[0;32min\u001B[0m \u001B[0mzip\u001B[0m\u001B[0;34m(\u001B[0m\u001B[0msong_specs\u001B[0m\u001B[0;34m,\u001B[0m \u001B[0mgenres\u001B[0m\u001B[0;34m)\u001B[0m\u001B[0;34m:\u001B[0m\u001B[0;34m\u001B[0m\u001B[0;34m\u001B[0m\u001B[0m\n\u001B[1;32m      5\u001B[0m         \u001B[0;32mif\u001B[0m \u001B[0mshow_genre\u001B[0m \u001B[0;34m==\u001B[0m \u001B[0mgenre\u001B[0m\u001B[0;34m:\u001B[0m\u001B[0;34m\u001B[0m\u001B[0;34m\u001B[0m\u001B[0m\n",
      "\u001B[0;31mKeyError\u001B[0m: 'metal'"
     ]
    }
   ],
   "source": [
    "show_spectogram('metal')"
   ]
  },
  {
   "cell_type": "code",
   "execution_count": 6,
   "metadata": {},
   "outputs": [
    {
     "name": "stdout",
     "output_type": "stream",
     "text": [
      "Model: \"model\"\n",
      "_________________________________________________________________\n",
      "Layer (type)                 Output Shape              Param #   \n",
      "=================================================================\n",
      "input_1 (InputLayer)         [(None, 128, 128)]        0         \n",
      "_________________________________________________________________\n",
      "conv1d (Conv1D)              (None, 126, 64)           24640     \n",
      "_________________________________________________________________\n",
      "batch_normalization (BatchNo (None, 126, 64)           256       \n",
      "_________________________________________________________________\n",
      "max_pooling1d (MaxPooling1D) (None, 63, 64)            0         \n",
      "_________________________________________________________________\n",
      "conv1d_1 (Conv1D)            (None, 61, 128)           24704     \n",
      "_________________________________________________________________\n",
      "batch_normalization_1 (Batch (None, 61, 128)           512       \n",
      "_________________________________________________________________\n",
      "max_pooling1d_1 (MaxPooling1 (None, 30, 128)           0         \n",
      "_________________________________________________________________\n",
      "conv1d_2 (Conv1D)            (None, 28, 256)           98560     \n",
      "_________________________________________________________________\n",
      "batch_normalization_2 (Batch (None, 28, 256)           1024      \n",
      "_________________________________________________________________\n",
      "max_pooling1d_2 (MaxPooling1 (None, 14, 256)           0         \n",
      "_________________________________________________________________\n",
      "global_max_pooling1d (Global (None, 256)               0         \n",
      "_________________________________________________________________\n",
      "dense (Dense)                (None, 256)               65792     \n",
      "_________________________________________________________________\n",
      "dropout (Dropout)            (None, 256)               0         \n",
      "_________________________________________________________________\n",
      "dense_1 (Dense)              (None, 256)               65792     \n",
      "_________________________________________________________________\n",
      "dropout_1 (Dropout)          (None, 256)               0         \n",
      "_________________________________________________________________\n",
      "dense_2 (Dense)              (None, 10)                2570      \n",
      "=================================================================\n",
      "Total params: 283,850\n",
      "Trainable params: 282,954\n",
      "Non-trainable params: 896\n",
      "_________________________________________________________________\n"
     ]
    }
   ],
   "source": [
    "def lstm_model(input_shape):\n",
    "    inputs = Input(shape=input_shape, name='input')\n",
    "    lstm_1 = LSTM(units=128, return_sequences=False)(inputs)\n",
    "    \n",
    "    dense2 = Dense(10, activation='softmax')(lstm_1)\n",
    "\n",
    "    model = Model(inputs=[inputs], outputs=[dense2])\n",
    "    sgd = keras.optimizers.SGD(lr=0.0003, momentum=0.9, decay=1e-5, nesterov=True)\n",
    "    model.compile(loss=keras.losses.categorical_crossentropy,\n",
    "                  optimizer=sgd,\n",
    "                  metrics=['accuracy'])\n",
    "    return model\n",
    "\n",
    "def cnn_model(input_shape):\n",
    "    inputs = Input(input_shape)\n",
    "    x = inputs\n",
    "    levels = 64\n",
    "    \n",
    "    for level in range(3):\n",
    "        x = Conv1D(levels, 3, activation='relu')(x)\n",
    "        x = BatchNormalization()(x)\n",
    "        x = MaxPooling1D(pool_size=2, strides=2)(x)\n",
    "        levels *= 2\n",
    "    \n",
    "    # Global Layers\n",
    "    x = GlobalMaxPooling1D()(x)\n",
    "\n",
    "    for fc in range(2):\n",
    "        x = Dense(256, activation='relu')(x)\n",
    "        x = Dropout(0.5)(x)\n",
    "\n",
    "    labels = Dense(10, activation='softmax')(x)\n",
    "\n",
    "    model = Model(inputs=[inputs], outputs=[labels])\n",
    "    sgd = keras.optimizers.SGD(lr=0.0003, momentum=0.9, decay=1e-5, nesterov=True)\n",
    "    model.compile(loss='categorical_crossentropy',\n",
    "                  optimizer=sgd,\n",
    "                  metrics=['accuracy'])\n",
    "    return model\n",
    "\n",
    "model = cnn_model((128, 128))\n",
    "model.summary()"
   ]
  },
  {
   "cell_type": "code",
   "execution_count": 7,
   "metadata": {},
   "outputs": [
    {
     "ename": "ValueError",
     "evalue": "With n_samples=0, test_size=0.1 and train_size=None, the resulting train set will be empty. Adjust any of the aforementioned parameters.",
     "output_type": "error",
     "traceback": [
      "\u001B[0;31m---------------------------------------------------------------------------\u001B[0m",
      "\u001B[0;31mValueError\u001B[0m                                Traceback (most recent call last)",
      "\u001B[0;32m<ipython-input-7-4d2be794b81b>\u001B[0m in \u001B[0;36m<module>\u001B[0;34m\u001B[0m\n\u001B[1;32m      7\u001B[0m \u001B[0mgenres_one_hot\u001B[0m \u001B[0;34m=\u001B[0m \u001B[0mkeras\u001B[0m\u001B[0;34m.\u001B[0m\u001B[0mutils\u001B[0m\u001B[0;34m.\u001B[0m\u001B[0mto_categorical\u001B[0m\u001B[0;34m(\u001B[0m\u001B[0mgenres\u001B[0m\u001B[0;34m,\u001B[0m \u001B[0mnum_classes\u001B[0m\u001B[0;34m=\u001B[0m\u001B[0mlen\u001B[0m\u001B[0;34m(\u001B[0m\u001B[0mgenre_to_idx\u001B[0m\u001B[0;34m)\u001B[0m\u001B[0;34m)\u001B[0m\u001B[0;34m\u001B[0m\u001B[0;34m\u001B[0m\u001B[0m\n\u001B[1;32m      8\u001B[0m \u001B[0;34m\u001B[0m\u001B[0m\n\u001B[0;32m----> 9\u001B[0;31m x_train, x_test, y_train, y_test = train_test_split(\n\u001B[0m\u001B[1;32m     10\u001B[0m     \u001B[0mnp\u001B[0m\u001B[0;34m.\u001B[0m\u001B[0marray\u001B[0m\u001B[0;34m(\u001B[0m\u001B[0msong_specs\u001B[0m\u001B[0;34m)\u001B[0m\u001B[0;34m,\u001B[0m \u001B[0mnp\u001B[0m\u001B[0;34m.\u001B[0m\u001B[0marray\u001B[0m\u001B[0;34m(\u001B[0m\u001B[0mgenres_one_hot\u001B[0m\u001B[0;34m)\u001B[0m\u001B[0;34m,\u001B[0m\u001B[0;34m\u001B[0m\u001B[0;34m\u001B[0m\u001B[0m\n\u001B[1;32m     11\u001B[0m     test_size=0.1, stratify=genres)\n",
      "\u001B[0;32m~/Dokumenter/Programs/miniconda3/envs/DeepLearningCookbook-py38/lib/python3.8/site-packages/sklearn/model_selection/_split.py\u001B[0m in \u001B[0;36mtrain_test_split\u001B[0;34m(*arrays, **options)\u001B[0m\n\u001B[1;32m   2128\u001B[0m \u001B[0;34m\u001B[0m\u001B[0m\n\u001B[1;32m   2129\u001B[0m     \u001B[0mn_samples\u001B[0m \u001B[0;34m=\u001B[0m \u001B[0m_num_samples\u001B[0m\u001B[0;34m(\u001B[0m\u001B[0marrays\u001B[0m\u001B[0;34m[\u001B[0m\u001B[0;36m0\u001B[0m\u001B[0;34m]\u001B[0m\u001B[0;34m)\u001B[0m\u001B[0;34m\u001B[0m\u001B[0;34m\u001B[0m\u001B[0m\n\u001B[0;32m-> 2130\u001B[0;31m     n_train, n_test = _validate_shuffle_split(n_samples, test_size, train_size,\n\u001B[0m\u001B[1;32m   2131\u001B[0m                                               default_test_size=0.25)\n\u001B[1;32m   2132\u001B[0m \u001B[0;34m\u001B[0m\u001B[0m\n",
      "\u001B[0;32m~/Dokumenter/Programs/miniconda3/envs/DeepLearningCookbook-py38/lib/python3.8/site-packages/sklearn/model_selection/_split.py\u001B[0m in \u001B[0;36m_validate_shuffle_split\u001B[0;34m(n_samples, test_size, train_size, default_test_size)\u001B[0m\n\u001B[1;32m   1808\u001B[0m \u001B[0;34m\u001B[0m\u001B[0m\n\u001B[1;32m   1809\u001B[0m     \u001B[0;32mif\u001B[0m \u001B[0mn_train\u001B[0m \u001B[0;34m==\u001B[0m \u001B[0;36m0\u001B[0m\u001B[0;34m:\u001B[0m\u001B[0;34m\u001B[0m\u001B[0;34m\u001B[0m\u001B[0m\n\u001B[0;32m-> 1810\u001B[0;31m         raise ValueError(\n\u001B[0m\u001B[1;32m   1811\u001B[0m             \u001B[0;34m'With n_samples={}, test_size={} and train_size={}, the '\u001B[0m\u001B[0;34m\u001B[0m\u001B[0;34m\u001B[0m\u001B[0m\n\u001B[1;32m   1812\u001B[0m             \u001B[0;34m'resulting train set will be empty. Adjust any of the '\u001B[0m\u001B[0;34m\u001B[0m\u001B[0;34m\u001B[0m\u001B[0m\n",
      "\u001B[0;31mValueError\u001B[0m: With n_samples=0, test_size=0.1 and train_size=None, the resulting train set will be empty. Adjust any of the aforementioned parameters."
     ]
    }
   ],
   "source": [
    "def split_10(x, y):\n",
    "    s = x.shape\n",
    "    s = (s[0] * 10, s[1] // 10, s[2])\n",
    "    return x.reshape(s), np.repeat(y, 10, axis=0)\n",
    "\n",
    "\n",
    "genres_one_hot = keras.utils.to_categorical(genres, num_classes=len(genre_to_idx))\n",
    "\n",
    "x_train, x_test, y_train, y_test = train_test_split(\n",
    "    np.array(song_specs), np.array(genres_one_hot), \n",
    "    test_size=0.1, stratify=genres)\n",
    "\n",
    "x_test, y_test = split_10(x_test, y_test)\n",
    "x_train, y_train = split_10(x_train, y_train)\n",
    "\n",
    "x_train.shape, y_train.shape"
   ]
  },
  {
   "cell_type": "code",
   "execution_count": null,
   "metadata": {},
   "outputs": [],
   "source": [
    "earlystop = keras.callbacks.EarlyStopping(monitor='val_loss',\n",
    "      min_delta=0,\n",
    "      patience=3,\n",
    "      verbose=0,\n",
    "      mode='auto')\n",
    "\n",
    "    # Fit the model\n",
    "history = model.fit(x_train, y_train,\n",
    "      batch_size=128,\n",
    "      epochs=100,\n",
    "      verbose=1,\n",
    "      validation_data=(x_test, y_test),\n",
    "      callbacks = [earlystop])"
   ]
  },
  {
   "cell_type": "code",
   "execution_count": null,
   "metadata": {
    "collapsed": true
   },
   "outputs": [],
   "source": [
    "model.save('zoo/15/song_classify.h5')"
   ]
  },
  {
   "cell_type": "code",
   "execution_count": null,
   "metadata": {},
   "outputs": [],
   "source": [
    "def unsplit(values):\n",
    "    chunks = np.split(values, 100)\n",
    "    return np.array([np.argmax(chunk) % 10 for chunk in chunks])\n",
    "\n",
    "pred_values = model.predict(x_test)\n",
    "predictions = unsplit(pred_values)\n",
    "truth = unsplit(y_test)\n",
    "accuracy_score(predictions, truth)"
   ]
  },
  {
   "cell_type": "code",
   "execution_count": null,
   "metadata": {},
   "outputs": [],
   "source": [
    "cm = confusion_matrix(np.argmax(pred_values, axis=1), np.argmax(y_test, axis=1))\n",
    "print(cm)"
   ]
  },
  {
   "cell_type": "code",
   "execution_count": null,
   "metadata": {
    "scrolled": true
   },
   "outputs": [],
   "source": [
    "plt.imshow(cm.T, interpolation='nearest', cmap='gray')\n",
    "plt.xticks(np.arange(0, len(idx_to_genre)), idx_to_genre)\n",
    "plt.yticks(np.arange(0, len(idx_to_genre)), idx_to_genre)\n",
    "\n",
    "plt.show()"
   ]
  },
  {
   "cell_type": "code",
   "execution_count": null,
   "metadata": {},
   "outputs": [],
   "source": [
    "m1 = cnn_melspect_1D_org((128, 128))\n",
    "m2 = cnn_melspect_1D((128, 128))\n",
    "ac1 = 0.61 * 5\n",
    "ac2 = 0\n",
    "for i in range(5):\n",
    "    history = m1.fit(x_train, y_train,\n",
    "      batch_size=128,\n",
    "      epochs=100,\n",
    "      verbose=0,\n",
    "      validation_data=(x_test, y_test),\n",
    "      callbacks = [earlystop])\n",
    "    ac1 += history.history['val_acc'][-1]\n",
    "    history = m2.fit(x_train, y_train,\n",
    "      batch_size=128,\n",
    "      epochs=100,\n",
    "      verbose=0,\n",
    "      validation_data=(x_test, y_test),\n",
    "      callbacks = [earlystop])\n",
    "    ac2 += history.history['val_acc'][-1]\n",
    "\n",
    "print(ac1 / 5, ac2 / 5)"
   ]
  },
  {
   "cell_type": "code",
   "execution_count": null,
   "metadata": {
    "collapsed": true
   },
   "outputs": [],
   "source": []
  }
 ],
 "metadata": {
  "kernelspec": {
   "display_name": "Python 3",
   "language": "python",
   "name": "python3"
  },
  "language_info": {
   "codemirror_mode": {
    "name": "ipython",
    "version": 3
   },
   "file_extension": ".py",
   "mimetype": "text/x-python",
   "name": "python",
   "nbconvert_exporter": "python",
   "pygments_lexer": "ipython3",
   "version": "3.5.2"
  }
 },
 "nbformat": 4,
 "nbformat_minor": 2
}