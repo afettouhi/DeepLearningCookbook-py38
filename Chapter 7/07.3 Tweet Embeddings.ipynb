{
 "cells": [
  {
   "cell_type": "code",
   "execution_count": null,
   "metadata": {},
   "outputs": [],
   "source": [
    "import random\n",
    "import twitter\n",
    "import emoji\n",
    "import gensim\n",
    "import unicodedata\n",
    "import html\n",
    "from keras.preprocessing.text import text_to_word_sequence\n",
    "import re"
   ]
  },
  {
   "cell_type": "code",
   "execution_count": null,
   "metadata": {
    "collapsed": true
   },
   "outputs": [],
   "source": [
    "# Fill these in!\n",
    "\n",
    "CONSUMER_KEY = 'xbMuxcJpRTiVGt2C2EYnA'\n",
    "CONSUMER_SECRET = '2DbQTsvIptkPTdaUcos8DDvQH9fzO0hNjJpUT2uVzQ'\n",
    "ACCESS_TOKEN = '7319442-EDm4CPxL7W4KkZcGWRMJNVHp88W5OH9vgblu898fg'\n",
    "ACCESS_SECRET = '5ZxJSbqXhG7uhgXzTFWf9XhkfsxxinlPRXyDTzbA9w'"
   ]
  },
  {
   "cell_type": "code",
   "execution_count": null,
   "metadata": {},
   "outputs": [],
   "source": [
    "auth=twitter.OAuth(\n",
    "    consumer_key=CONSUMER_KEY,\n",
    "    consumer_secret=CONSUMER_SECRET,\n",
    "    token=ACCESS_TOKEN,\n",
    "    token_secret=ACCESS_SECRET,\n",
    ")\n",
    "\n",
    "status_stream = twitter.TwitterStream(auth=auth).statuses\n",
    "next(status_stream.sample()).keys()"
   ]
  },
  {
   "cell_type": "code",
   "execution_count": null,
   "metadata": {},
   "outputs": [],
   "source": [
    "RE_URL = re.compile(r'(http|ftp|https)://([\\w_-]+(?:(?:\\.[\\w_-]+)+))([\\w.,@?^=%&:/~+#-]*[\\w@?^=%&/~+#-])?')\n",
    "RE_WHITESPACE = re.compile(r'\\s+')\n",
    "\n",
    "def strip_accents(s):\n",
    "     return ''.join(c for c in unicodedata.normalize('NFD', s)\n",
    "                    if unicodedata.category(c) != 'Mn')\n",
    "\n",
    "class TokensYielder(object):\n",
    "    def __init__(self, tweet_count, stream):\n",
    "        self.tweet_count = tweet_count\n",
    "        self.stream = stream\n",
    "\n",
    "    def __iter__(self):\n",
    "        count = self.tweet_count\n",
    "        for tweet in self.stream:\n",
    "            if tweet.get('lang') != 'en':\n",
    "                continue\n",
    "            text = tweet['text']\n",
    "            text = html.unescape(text)\n",
    "            text = RE_WHITESPACE.sub(' ', text)\n",
    "            text = RE_URL.sub(' ', text)\n",
    "            text = strip_accents(text)\n",
    "            text = ''.join(ch for ch in text if ord(ch) < 128)\n",
    "            if text.startswith('RT '):\n",
    "                text = text[3:]\n",
    "            text = text.strip()\n",
    "            if text:\n",
    "                yield text_to_word_sequence(text)\n",
    "                count -= 1\n",
    "                if count <= 0:\n",
    "                    break\n",
    "\n",
    "for t in TokensYielder(3, twitter.TwitterStream(auth=auth).statuses.sample()):\n",
    "    print(t)"
   ]
  },
  {
   "cell_type": "code",
   "execution_count": null,
   "metadata": {},
   "outputs": [],
   "source": [
    "tweets = list(TokensYielder(70000, twitter.TwitterStream(auth=auth).statuses.sample()))"
   ]
  },
  {
   "cell_type": "code",
   "execution_count": null,
   "metadata": {
    "collapsed": true
   },
   "outputs": [],
   "source": [
    "model = gensim.models.Word2Vec(tweets, \n",
    "                               workers=5,\n",
    "                               min_count=2,\n",
    "                              )\n",
    "model.save('zoo/07/twitter_stream_w2v.model')"
   ]
  },
  {
   "cell_type": "code",
   "execution_count": null,
   "metadata": {},
   "outputs": [],
   "source": [
    "model.wv.most_similar(positive=['love'], topn=5)"
   ]
  },
  {
   "cell_type": "code",
   "execution_count": null,
   "metadata": {
    "collapsed": true
   },
   "outputs": [],
   "source": []
  }
 ],
 "metadata": {
  "kernelspec": {
   "display_name": "Python 3",
   "language": "python",
   "name": "python3"
  },
  "language_info": {
   "codemirror_mode": {
    "name": "ipython",
    "version": 3
   },
   "file_extension": ".py",
   "mimetype": "text/x-python",
   "name": "python",
   "nbconvert_exporter": "python",
   "pygments_lexer": "ipython3",
   "version": "3.5.2"
  }
 },
 "nbformat": 4,
 "nbformat_minor": 2
}